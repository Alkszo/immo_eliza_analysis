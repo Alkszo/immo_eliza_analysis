{
 "cells": [
  {
   "cell_type": "code",
   "execution_count": 1,
   "metadata": {},
   "outputs": [],
   "source": [
    "import pandas as pd"
   ]
  },
  {
   "cell_type": "code",
   "execution_count": 2,
   "metadata": {},
   "outputs": [],
   "source": [
    "df = pd.read_csv('raw_data.csv')"
   ]
  },
  {
   "cell_type": "code",
   "execution_count": 3,
   "metadata": {},
   "outputs": [],
   "source": [
    "# dfc = pd.read_csv('cleaned-data.csv')                               -> Can this be removed?"
   ]
  },
  {
   "cell_type": "code",
   "execution_count": 4,
   "metadata": {},
   "outputs": [
    {
     "name": "stdout",
     "output_type": "stream",
     "text": [
      "36\n"
     ]
    }
   ],
   "source": [
    "print(df.price.isna().sum())\n",
    "#print(dfc.price.isna().sum())                                        -> Can this be removed?\n",
    "\n",
    "# Dropping entries with missing values in \"price\" (36)\n",
    "dfc = df.dropna(subset=['price'], how='all')\n",
    "dfc.reset_index(drop=True, inplace=True)                              # Added \"drop=True\" to drop the old index"
   ]
  },
  {
   "cell_type": "code",
   "execution_count": 7,
   "metadata": {},
   "outputs": [],
   "source": [
    "# Drop rows where 'living_area' is 0 (5 entries)\n",
    "dfc = dfc[dfc[\"living_area\"] != 0]"
   ]
  },
  {
   "cell_type": "code",
   "execution_count": 8,
   "metadata": {},
   "outputs": [],
   "source": [
    "# Handling missing values in \"facade_number\" (9362)\n",
    "\n",
    "# Compute median facade number by subtype\n",
    "facade_dict = dfc.groupby(\"subtype_of_property\")[\"facade_number\"].median().to_dict()\n",
    "\n",
    "# Impute values\n",
    "dfc[\"facade_number\"] = dfc[\"facade_number\"].fillna(dfc[\"subtype_of_property\"].map(facade_dict))"
   ]
  },
  {
   "cell_type": "code",
   "execution_count": 5,
   "metadata": {},
   "outputs": [],
   "source": [
    "#cleaning and normalizing kitchen status\n",
    "dfc.loc[dfc['equipped_kitchen'] == '0', ['equipped_kitchen']] = 'not installed'\n",
    "dfc.loc[dfc['equipped_kitchen'] == 'usa uninstalled', ['equipped_kitchen']] = 'not installed'\n",
    "dfc.loc[(dfc['equipped_kitchen'] != 'installed') & (dfc['equipped_kitchen'] != 'not installed'), ['equipped_kitchen']] = 'equipped'"
   ]
  },
  {
   "cell_type": "code",
   "execution_count": 6,
   "metadata": {},
   "outputs": [],
   "source": [
    "#cleaning and normalizing building condition\n",
    "dfc.loc[(dfc['building_condition'] == 'as new') | (dfc['building_condition'] == 'just renovated'), ['building_condition']] = 'good'\n",
    "dfc.loc[dfc['building_condition'] == 'to be done up', ['building_condition']] = 'to renovate'\n",
    "dfc.loc[dfc['building_condition'].isna(), ['building_condition']] = 'no info'"
   ]
  },
  {
   "cell_type": "code",
   "execution_count": 9,
   "metadata": {},
   "outputs": [],
   "source": [
    "# Create function to remove 'unit' form sub type of property, so 'apartment' and 'apartment unit' become one category and so on\n",
    "def remove_unit(subtype_of_property):\n",
    "    if 'unit' in subtype_of_property:\n",
    "        subtype_of_property = subtype_of_property.replace(' unit', '')\n",
    "    return subtype_of_property"
   ]
  },
  {
   "cell_type": "code",
   "execution_count": null,
   "metadata": {},
   "outputs": [],
   "source": [
    "# Apply the function to remove 'unit' from the sub type col:\n",
    "dfc['subtype_of_property'] = dfc['subtype_of_property'].apply(remove_unit)"
   ]
  },
  {
   "cell_type": "markdown",
   "metadata": {},
   "source": [
    "Grouping Similar Subtypes into Categories\n",
    "\n",
    "Example Grouping:\n",
    "* 1 (Luxury Properties): 'mansion', 'castle', 'exceptional property', 'villa'\n",
    "* 2 (Houses): 'house', 'bungalow', 'town house', 'manor house', 'duplex', 'triplex'\n",
    "* 3 (Apartments): 'apartment', 'flat studio', 'penthouse', 'ground floor', 'loft', 'kot'\n",
    "* 4 (Rural): 'country cottage', 'farmhouse', 'chalet'\n",
    "* 5 (Other): 'other property', 'mixed use building', 'service flat'"
   ]
  },
  {
   "cell_type": "code",
   "execution_count": null,
   "metadata": {},
   "outputs": [],
   "source": [
    "# Define grouped mapping with assigned numbers\n",
    "property_group_mapping = {\n",
    "    'apartment': 3, 'flat studio': 3, 'penthouse': 3, 'ground floor': 3, 'loft': 3,\n",
    "    'house': 2, 'villa': 1, 'bungalow': 2, 'town house': 2, 'manor house': 2,\n",
    "    'mansion': 1, 'castle': 1, 'exceptional property': 1,\n",
    "    'mixed use building': 5, 'service flat': 5,\n",
    "    'kot': 5, 'triplex': 5, 'country cottage': 5, 'farmhouse': 5, 'chalet': 5, 'other property': 5, 'duplex': 2\n",
    "}\n",
    "\n",
    "# Apply the grouped mapping to the column\n",
    "dfc['sub_property_group_encoded'] = dfc['subtype_of_property'].map(property_group_mapping)\n",
    "\n",
    "# Convert to integer\n",
    "dfc['sub_property_group_encoded'] = dfc['sub_property_group_encoded'].astype('Int64')"
   ]
  },
  {
   "cell_type": "code",
   "execution_count": 11,
   "metadata": {},
   "outputs": [],
   "source": [
    "dfc.to_csv('cleaned-data.csv', index=False)"
   ]
  }
 ],
 "metadata": {
  "kernelspec": {
   "display_name": "Python 3",
   "language": "python",
   "name": "python3"
  },
  "language_info": {
   "codemirror_mode": {
    "name": "ipython",
    "version": 3
   },
   "file_extension": ".py",
   "mimetype": "text/x-python",
   "name": "python",
   "nbconvert_exporter": "python",
   "pygments_lexer": "ipython3",
   "version": "3.13.0"
  }
 },
 "nbformat": 4,
 "nbformat_minor": 2
}
