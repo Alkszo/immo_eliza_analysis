{
 "cells": [
  {
   "cell_type": "code",
   "execution_count": 59,
   "metadata": {},
   "outputs": [],
   "source": [
    "import pandas as pd"
   ]
  },
  {
   "cell_type": "code",
   "execution_count": 60,
   "metadata": {},
   "outputs": [],
   "source": [
    "df = pd.read_csv('raw_data.csv')"
   ]
  },
  {
   "cell_type": "code",
   "execution_count": 62,
   "metadata": {},
   "outputs": [],
   "source": [
    "dfc = pd.read_csv('cleaned-data.csv')"
   ]
  },
  {
   "cell_type": "code",
   "execution_count": null,
   "metadata": {},
   "outputs": [
    {
     "name": "stdout",
     "output_type": "stream",
     "text": [
      "36\n",
      "0\n"
     ]
    }
   ],
   "source": [
    "print(df.price.isna().sum())\n",
    "print(dfc.price.isna().sum())\n",
    "\n",
    "# Dropping entries with missing values in \"price\" (36)\n",
    "dfc = df.dropna(subset=['price'], how='all')\n",
    "dfc.reset_index(inplace=True)"
   ]
  },
  {
   "cell_type": "code",
   "execution_count": null,
   "metadata": {},
   "outputs": [],
   "source": [
    "#cleaning and normalizing kitchen status\n",
    "dfc.loc[dfc['equipped_kitchen'] == '0', ['equipped_kitchen']] = 'not installed'\n",
    "dfc.loc[dfc['equipped_kitchen'] == 'usa uninstalled', ['equipped_kitchen']] = 'not installed'\n",
    "dfc.loc[(dfc['equipped_kitchen'] != 'installed') & (dfc['equipped_kitchen'] != 'not installed'), ['equipped_kitchen']] = 'equipped'"
   ]
  },
  {
   "cell_type": "code",
   "execution_count": null,
   "metadata": {},
   "outputs": [],
   "source": [
    "#cleaning and normalizing building condition\n",
    "dfc.loc[(dfc['building_condition'] == 'as new') | (dfc['building_condition'] == 'just renovated'), ['building_condition']] = 'good'\n",
    "dfc.loc[dfc['building_condition'] == 'to be done up', ['building_condition']] = 'to renovate'\n",
    "dfc.loc[dfc['building_condition'].isna(), ['building_condition']] = 'no info'"
   ]
  },
  {
   "cell_type": "code",
   "execution_count": 63,
   "metadata": {},
   "outputs": [],
   "source": [
    "# Drop rows where 'living_area' is 0 (5 entries)\n",
    "dfc = dfc[dfc[\"living_area\"] != 0]"
   ]
  },
  {
   "cell_type": "code",
   "execution_count": 64,
   "metadata": {},
   "outputs": [],
   "source": [
    "# Handling missing values in \"facade_number\" (9362)\n",
    "\n",
    "# Compute median facade number by subtype\n",
    "facade_dict = dfc.groupby(\"subtype_of_property\")[\"facade_number\"].median().to_dict()\n",
    "\n",
    "# Impute values\n",
    "dfc[\"facade_number\"] = dfc[\"facade_number\"].fillna(dfc[\"subtype_of_property\"].map(facade_dict))"
   ]
  },
  {
   "cell_type": "code",
   "execution_count": null,
   "metadata": {},
   "outputs": [],
   "source": [
    "# Create function to remove 'unit' form sub type of property, so 'apartment' and 'apartment unit' become one category and so on\n",
    "def remove_unit(subtype_of_property):\n",
    "    if 'unit' in subtype_of_property:\n",
    "        subtype_of_property = subtype_of_property.replace(' unit', '')\n",
    "    return subtype_of_property"
   ]
  },
  {
   "cell_type": "code",
   "execution_count": null,
   "metadata": {},
   "outputs": [],
   "source": [
    "# Apply the function to the sub type col:\n",
    "df['subtype_of_property'] = df['subtype_of_property'].apply(remove_unit)"
   ]
  },
  {
   "cell_type": "code",
   "execution_count": null,
   "metadata": {},
   "outputs": [],
   "source": [
    "dfc.to_csv('cleaned-data.csv', index=False)"
   ]
  }
 ],
 "metadata": {
  "kernelspec": {
   "display_name": "Python 3",
   "language": "python",
   "name": "python3"
  },
  "language_info": {
   "codemirror_mode": {
    "name": "ipython",
    "version": 3
   },
   "file_extension": ".py",
   "mimetype": "text/x-python",
   "name": "python",
   "nbconvert_exporter": "python",
   "pygments_lexer": "ipython3",
   "version": "3.11.0"
  }
 },
 "nbformat": 4,
 "nbformat_minor": 2
}
