{
 "cells": [
  {
   "cell_type": "code",
   "execution_count": 1,
   "metadata": {},
   "outputs": [],
   "source": [
    "import pandas as pd"
   ]
  },
  {
   "cell_type": "code",
   "execution_count": 26,
   "metadata": {},
   "outputs": [],
   "source": [
    "df = pd.read_csv('../cleaned-data.csv')"
   ]
  },
  {
   "cell_type": "code",
   "execution_count": 31,
   "metadata": {},
   "outputs": [
    {
     "data": {
      "text/html": [
       "<div>\n",
       "<style scoped>\n",
       "    .dataframe tbody tr th:only-of-type {\n",
       "        vertical-align: middle;\n",
       "    }\n",
       "\n",
       "    .dataframe tbody tr th {\n",
       "        vertical-align: top;\n",
       "    }\n",
       "\n",
       "    .dataframe thead th {\n",
       "        text-align: right;\n",
       "    }\n",
       "</style>\n",
       "<table border=\"1\" class=\"dataframe\">\n",
       "  <thead>\n",
       "    <tr style=\"text-align: right;\">\n",
       "      <th></th>\n",
       "      <th>zip_code</th>\n",
       "      <th>commune</th>\n",
       "      <th>province</th>\n",
       "      <th>type_of_property</th>\n",
       "      <th>subtype_of_property</th>\n",
       "      <th>price</th>\n",
       "      <th>building_condition</th>\n",
       "      <th>facade_number</th>\n",
       "      <th>living_area</th>\n",
       "      <th>equipped_kitchen</th>\n",
       "      <th>bedroom_nr</th>\n",
       "      <th>swimming_pool</th>\n",
       "      <th>furnished</th>\n",
       "      <th>open_fire</th>\n",
       "      <th>terrace</th>\n",
       "      <th>garden</th>\n",
       "      <th>plot_surface</th>\n",
       "      <th>sub_property_group_encoded</th>\n",
       "    </tr>\n",
       "  </thead>\n",
       "  <tbody>\n",
       "    <tr>\n",
       "      <th>0</th>\n",
       "      <td>2600</td>\n",
       "      <td>Berchem</td>\n",
       "      <td>Antwerpen</td>\n",
       "      <td>0</td>\n",
       "      <td>apartment</td>\n",
       "      <td>149000.0</td>\n",
       "      <td>good</td>\n",
       "      <td>2.0</td>\n",
       "      <td>48</td>\n",
       "      <td>installed</td>\n",
       "      <td>1</td>\n",
       "      <td>0</td>\n",
       "      <td>0</td>\n",
       "      <td>0</td>\n",
       "      <td>9</td>\n",
       "      <td>0</td>\n",
       "      <td>0</td>\n",
       "      <td>apartments</td>\n",
       "    </tr>\n",
       "    <tr>\n",
       "      <th>1</th>\n",
       "      <td>2100</td>\n",
       "      <td>Deurne</td>\n",
       "      <td>Antwerpen</td>\n",
       "      <td>0</td>\n",
       "      <td>apartment</td>\n",
       "      <td>248000.0</td>\n",
       "      <td>good</td>\n",
       "      <td>2.0</td>\n",
       "      <td>91</td>\n",
       "      <td>installed</td>\n",
       "      <td>3</td>\n",
       "      <td>0</td>\n",
       "      <td>0</td>\n",
       "      <td>0</td>\n",
       "      <td>2</td>\n",
       "      <td>0</td>\n",
       "      <td>0</td>\n",
       "      <td>apartments</td>\n",
       "    </tr>\n",
       "    <tr>\n",
       "      <th>2</th>\n",
       "      <td>2660</td>\n",
       "      <td>Hoboken</td>\n",
       "      <td>Antwerpen</td>\n",
       "      <td>0</td>\n",
       "      <td>apartment</td>\n",
       "      <td>229000.0</td>\n",
       "      <td>good</td>\n",
       "      <td>2.0</td>\n",
       "      <td>100</td>\n",
       "      <td>not installed</td>\n",
       "      <td>3</td>\n",
       "      <td>0</td>\n",
       "      <td>0</td>\n",
       "      <td>0</td>\n",
       "      <td>26</td>\n",
       "      <td>0</td>\n",
       "      <td>0</td>\n",
       "      <td>apartments</td>\n",
       "    </tr>\n",
       "    <tr>\n",
       "      <th>3</th>\n",
       "      <td>1180</td>\n",
       "      <td>Uccle</td>\n",
       "      <td>Bruxelles</td>\n",
       "      <td>0</td>\n",
       "      <td>apartment</td>\n",
       "      <td>470000.0</td>\n",
       "      <td>good</td>\n",
       "      <td>2.0</td>\n",
       "      <td>179</td>\n",
       "      <td>equipped</td>\n",
       "      <td>3</td>\n",
       "      <td>0</td>\n",
       "      <td>0</td>\n",
       "      <td>0</td>\n",
       "      <td>10</td>\n",
       "      <td>0</td>\n",
       "      <td>0</td>\n",
       "      <td>apartments</td>\n",
       "    </tr>\n",
       "    <tr>\n",
       "      <th>4</th>\n",
       "      <td>2018</td>\n",
       "      <td>Antwerpen</td>\n",
       "      <td>Antwerpen</td>\n",
       "      <td>0</td>\n",
       "      <td>apartment</td>\n",
       "      <td>480000.0</td>\n",
       "      <td>good</td>\n",
       "      <td>2.0</td>\n",
       "      <td>116</td>\n",
       "      <td>installed</td>\n",
       "      <td>2</td>\n",
       "      <td>0</td>\n",
       "      <td>0</td>\n",
       "      <td>0</td>\n",
       "      <td>7</td>\n",
       "      <td>0</td>\n",
       "      <td>0</td>\n",
       "      <td>apartments</td>\n",
       "    </tr>\n",
       "  </tbody>\n",
       "</table>\n",
       "</div>"
      ],
      "text/plain": [
       "   zip_code    commune   province  type_of_property subtype_of_property  \\\n",
       "0      2600    Berchem  Antwerpen                 0           apartment   \n",
       "1      2100     Deurne  Antwerpen                 0           apartment   \n",
       "2      2660    Hoboken  Antwerpen                 0           apartment   \n",
       "3      1180      Uccle  Bruxelles                 0           apartment   \n",
       "4      2018  Antwerpen  Antwerpen                 0           apartment   \n",
       "\n",
       "      price building_condition  facade_number  living_area equipped_kitchen  \\\n",
       "0  149000.0               good            2.0           48        installed   \n",
       "1  248000.0               good            2.0           91        installed   \n",
       "2  229000.0               good            2.0          100    not installed   \n",
       "3  470000.0               good            2.0          179         equipped   \n",
       "4  480000.0               good            2.0          116        installed   \n",
       "\n",
       "   bedroom_nr  swimming_pool  furnished  open_fire  terrace  garden  \\\n",
       "0           1              0          0          0        9       0   \n",
       "1           3              0          0          0        2       0   \n",
       "2           3              0          0          0       26       0   \n",
       "3           3              0          0          0       10       0   \n",
       "4           2              0          0          0        7       0   \n",
       "\n",
       "   plot_surface sub_property_group_encoded  \n",
       "0             0                 apartments  \n",
       "1             0                 apartments  \n",
       "2             0                 apartments  \n",
       "3             0                 apartments  \n",
       "4             0                 apartments  "
      ]
     },
     "execution_count": 31,
     "metadata": {},
     "output_type": "execute_result"
    }
   ],
   "source": [
    "df.head()"
   ]
  },
  {
   "cell_type": "code",
   "execution_count": 62,
   "metadata": {},
   "outputs": [
    {
     "name": "stdout",
     "output_type": "stream",
     "text": [
      "facade_number\n",
      "NaN     9345\n",
      "2.0     8795\n",
      "4.0     4178\n",
      "3.0     3733\n",
      "1.0       54\n",
      "6.0        3\n",
      "5.0        2\n",
      "15.0       1\n",
      "Name: count, dtype: int64\n"
     ]
    }
   ],
   "source": [
    "print(df.facade_number.value_counts(dropna=False))"
   ]
  },
  {
   "cell_type": "code",
   "execution_count": 61,
   "metadata": {},
   "outputs": [
    {
     "name": "stdout",
     "output_type": "stream",
     "text": [
      "swimming_pool\n",
      "0    25604\n",
      "1      507\n",
      "Name: count, dtype: int64\n",
      "open_fire\n",
      "0    25916\n",
      "1      195\n",
      "Name: count, dtype: int64\n",
      "furnished\n",
      "0    25272\n",
      "1      839\n",
      "Name: count, dtype: int64\n"
     ]
    }
   ],
   "source": [
    "print(df.swimming_pool.value_counts(dropna=False))\n",
    "print(df.open_fire.value_counts(dropna=False))\n",
    "print(df.furnished.value_counts(dropna=False))"
   ]
  },
  {
   "cell_type": "code",
   "execution_count": 30,
   "metadata": {},
   "outputs": [
    {
     "name": "stdout",
     "output_type": "stream",
     "text": [
      "subtype_of_property\n",
      "apartment               12508\n",
      "house                    8039\n",
      "villa                     895\n",
      "ground floor              749\n",
      "penthouse                 685\n",
      "flat studio               661\n",
      "duplex                    585\n",
      "mixed use building        358\n",
      "kot                       323\n",
      "apartment block           319\n",
      "exceptional property      158\n",
      "service flat              156\n",
      "mansion                   148\n",
      "loft                      113\n",
      "town house                102\n",
      "country cottage            92\n",
      "bungalow                   91\n",
      "triplex                    51\n",
      "farmhouse                  38\n",
      "manor house                12\n",
      "chalet                     12\n",
      "castle                      9\n",
      "other property              2\n",
      "Name: count, dtype: int64\n"
     ]
    }
   ],
   "source": [
    "print(df.subtype_of_property.value_counts(dropna=False))"
   ]
  },
  {
   "cell_type": "code",
   "execution_count": 36,
   "metadata": {},
   "outputs": [],
   "source": [
    "df_namur = pd.read_excel('zipcodes_prov_fr_edited.xlsx', sheet_name=6)"
   ]
  },
  {
   "cell_type": "code",
   "execution_count": 38,
   "metadata": {},
   "outputs": [
    {
     "data": {
      "text/html": [
       "<div>\n",
       "<style scoped>\n",
       "    .dataframe tbody tr th:only-of-type {\n",
       "        vertical-align: middle;\n",
       "    }\n",
       "\n",
       "    .dataframe tbody tr th {\n",
       "        vertical-align: top;\n",
       "    }\n",
       "\n",
       "    .dataframe thead th {\n",
       "        text-align: right;\n",
       "    }\n",
       "</style>\n",
       "<table border=\"1\" class=\"dataframe\">\n",
       "  <thead>\n",
       "    <tr style=\"text-align: right;\">\n",
       "      <th></th>\n",
       "      <th>Code postal</th>\n",
       "      <th>Localité</th>\n",
       "    </tr>\n",
       "  </thead>\n",
       "  <tbody>\n",
       "    <tr>\n",
       "      <th>0</th>\n",
       "      <td>5000</td>\n",
       "      <td>Beez</td>\n",
       "    </tr>\n",
       "    <tr>\n",
       "      <th>1</th>\n",
       "      <td>5000</td>\n",
       "      <td>Namur</td>\n",
       "    </tr>\n",
       "    <tr>\n",
       "      <th>2</th>\n",
       "      <td>5001</td>\n",
       "      <td>Belgrade</td>\n",
       "    </tr>\n",
       "    <tr>\n",
       "      <th>3</th>\n",
       "      <td>5002</td>\n",
       "      <td>Saint-Servais</td>\n",
       "    </tr>\n",
       "    <tr>\n",
       "      <th>4</th>\n",
       "      <td>5003</td>\n",
       "      <td>Saint-Marc</td>\n",
       "    </tr>\n",
       "  </tbody>\n",
       "</table>\n",
       "</div>"
      ],
      "text/plain": [
       "   Code postal       Localité\n",
       "0         5000           Beez\n",
       "1         5000          Namur\n",
       "2         5001       Belgrade\n",
       "3         5002  Saint-Servais\n",
       "4         5003     Saint-Marc"
      ]
     },
     "execution_count": 38,
     "metadata": {},
     "output_type": "execute_result"
    }
   ],
   "source": [
    "df_namur.head()"
   ]
  },
  {
   "cell_type": "code",
   "execution_count": 11,
   "metadata": {},
   "outputs": [
    {
     "name": "stdout",
     "output_type": "stream",
     "text": [
      "terrace\n",
      "0      7130\n",
      "1      5299\n",
      "10      920\n",
      "8       699\n",
      "6       662\n",
      "       ... \n",
      "168       1\n",
      "285       1\n",
      "134       1\n",
      "96        1\n",
      "166       1\n",
      "Name: count, Length: 199, dtype: int64\n"
     ]
    }
   ],
   "source": [
    "print(df.terrace.value_counts(dropna=False))"
   ]
  },
  {
   "cell_type": "code",
   "execution_count": 29,
   "metadata": {},
   "outputs": [
    {
     "name": "stdout",
     "output_type": "stream",
     "text": [
      "sub_property_group_encoded\n",
      "apartments           15039\n",
      "houses                8868\n",
      "luxury_properties     1222\n",
      "other                  835\n",
      "rural                  142\n",
      "Name: count, dtype: int64\n"
     ]
    }
   ],
   "source": [
    "#sub_property_group_encoded\n",
    "print(df.sub_property_group_encoded.value_counts(dropna=False))"
   ]
  },
  {
   "cell_type": "code",
   "execution_count": 35,
   "metadata": {},
   "outputs": [
    {
     "name": "stdout",
     "output_type": "stream",
     "text": [
      "equipped_kitchen\n",
      "not installed    10121\n",
      "equipped          8248\n",
      "installed         7737\n",
      "Name: count, dtype: int64\n"
     ]
    }
   ],
   "source": [
    "print(df.equipped_kitchen.value_counts(dropna=False))\n",
    "#not installed, installed, equipped"
   ]
  },
  {
   "cell_type": "code",
   "execution_count": null,
   "metadata": {},
   "outputs": [],
   "source": [
    "# Antwerpen, Limburg, Oost-Vlaanderen, Vlaams Brabant, West-Vlaanderen\n",
    "# Brabant Wallon, Hainaut, Liège, Luxembourg"
   ]
  },
  {
   "cell_type": "code",
   "execution_count": 34,
   "metadata": {},
   "outputs": [
    {
     "data": {
      "text/html": [
       "<div>\n",
       "<style scoped>\n",
       "    .dataframe tbody tr th:only-of-type {\n",
       "        vertical-align: middle;\n",
       "    }\n",
       "\n",
       "    .dataframe tbody tr th {\n",
       "        vertical-align: top;\n",
       "    }\n",
       "\n",
       "    .dataframe thead th {\n",
       "        text-align: right;\n",
       "    }\n",
       "</style>\n",
       "<table border=\"1\" class=\"dataframe\">\n",
       "  <thead>\n",
       "    <tr style=\"text-align: right;\">\n",
       "      <th></th>\n",
       "      <th>count</th>\n",
       "      <th>mean</th>\n",
       "      <th>std</th>\n",
       "      <th>min</th>\n",
       "      <th>25%</th>\n",
       "      <th>50%</th>\n",
       "      <th>75%</th>\n",
       "      <th>max</th>\n",
       "    </tr>\n",
       "    <tr>\n",
       "      <th>province</th>\n",
       "      <th></th>\n",
       "      <th></th>\n",
       "      <th></th>\n",
       "      <th></th>\n",
       "      <th></th>\n",
       "      <th></th>\n",
       "      <th></th>\n",
       "      <th></th>\n",
       "    </tr>\n",
       "  </thead>\n",
       "  <tbody>\n",
       "    <tr>\n",
       "      <th>Antwerpen</th>\n",
       "      <td>3192.0</td>\n",
       "      <td>448171.021930</td>\n",
       "      <td>327313.622967</td>\n",
       "      <td>105000.0</td>\n",
       "      <td>285000.0</td>\n",
       "      <td>367500.0</td>\n",
       "      <td>485441.25</td>\n",
       "      <td>4385000.0</td>\n",
       "    </tr>\n",
       "    <tr>\n",
       "      <th>Brabant Wallon</th>\n",
       "      <td>980.0</td>\n",
       "      <td>493624.165306</td>\n",
       "      <td>358350.473920</td>\n",
       "      <td>125000.0</td>\n",
       "      <td>325000.0</td>\n",
       "      <td>409500.0</td>\n",
       "      <td>517750.00</td>\n",
       "      <td>4500000.0</td>\n",
       "    </tr>\n",
       "    <tr>\n",
       "      <th>Bruxelles</th>\n",
       "      <td>5123.0</td>\n",
       "      <td>516521.420066</td>\n",
       "      <td>410097.983131</td>\n",
       "      <td>99000.0</td>\n",
       "      <td>289000.0</td>\n",
       "      <td>406000.0</td>\n",
       "      <td>615000.00</td>\n",
       "      <td>5500000.0</td>\n",
       "    </tr>\n",
       "    <tr>\n",
       "      <th>Hainaut</th>\n",
       "      <td>2149.0</td>\n",
       "      <td>291752.175896</td>\n",
       "      <td>171552.518988</td>\n",
       "      <td>35000.0</td>\n",
       "      <td>215000.0</td>\n",
       "      <td>270000.0</td>\n",
       "      <td>329000.00</td>\n",
       "      <td>4500000.0</td>\n",
       "    </tr>\n",
       "    <tr>\n",
       "      <th>Limburg</th>\n",
       "      <td>480.0</td>\n",
       "      <td>382702.575000</td>\n",
       "      <td>210838.654365</td>\n",
       "      <td>98000.0</td>\n",
       "      <td>279375.0</td>\n",
       "      <td>333800.0</td>\n",
       "      <td>408318.00</td>\n",
       "      <td>2150000.0</td>\n",
       "    </tr>\n",
       "    <tr>\n",
       "      <th>Liège</th>\n",
       "      <td>2143.0</td>\n",
       "      <td>289052.997200</td>\n",
       "      <td>176688.651114</td>\n",
       "      <td>40000.0</td>\n",
       "      <td>188000.0</td>\n",
       "      <td>250000.0</td>\n",
       "      <td>339000.00</td>\n",
       "      <td>2200000.0</td>\n",
       "    </tr>\n",
       "    <tr>\n",
       "      <th>Luxembourg</th>\n",
       "      <td>930.0</td>\n",
       "      <td>329748.145161</td>\n",
       "      <td>174024.518400</td>\n",
       "      <td>27500.0</td>\n",
       "      <td>235000.0</td>\n",
       "      <td>294900.0</td>\n",
       "      <td>386625.00</td>\n",
       "      <td>1790000.0</td>\n",
       "    </tr>\n",
       "    <tr>\n",
       "      <th>Oost-Vlaanderen</th>\n",
       "      <td>4353.0</td>\n",
       "      <td>420433.703193</td>\n",
       "      <td>265089.464950</td>\n",
       "      <td>79500.0</td>\n",
       "      <td>289000.0</td>\n",
       "      <td>375000.0</td>\n",
       "      <td>457500.00</td>\n",
       "      <td>4450000.0</td>\n",
       "    </tr>\n",
       "    <tr>\n",
       "      <th>Vlaams Brabant</th>\n",
       "      <td>1796.0</td>\n",
       "      <td>496249.076281</td>\n",
       "      <td>324114.874966</td>\n",
       "      <td>79000.0</td>\n",
       "      <td>303250.0</td>\n",
       "      <td>406308.5</td>\n",
       "      <td>579940.75</td>\n",
       "      <td>3140000.0</td>\n",
       "    </tr>\n",
       "    <tr>\n",
       "      <th>West-Vlaanderen</th>\n",
       "      <td>4960.0</td>\n",
       "      <td>598714.392742</td>\n",
       "      <td>733994.923220</td>\n",
       "      <td>49900.0</td>\n",
       "      <td>269000.0</td>\n",
       "      <td>364000.0</td>\n",
       "      <td>595000.00</td>\n",
       "      <td>8900000.0</td>\n",
       "    </tr>\n",
       "  </tbody>\n",
       "</table>\n",
       "</div>"
      ],
      "text/plain": [
       "                  count           mean            std       min       25%  \\\n",
       "province                                                                    \n",
       "Antwerpen        3192.0  448171.021930  327313.622967  105000.0  285000.0   \n",
       "Brabant Wallon    980.0  493624.165306  358350.473920  125000.0  325000.0   \n",
       "Bruxelles        5123.0  516521.420066  410097.983131   99000.0  289000.0   \n",
       "Hainaut          2149.0  291752.175896  171552.518988   35000.0  215000.0   \n",
       "Limburg           480.0  382702.575000  210838.654365   98000.0  279375.0   \n",
       "Liège            2143.0  289052.997200  176688.651114   40000.0  188000.0   \n",
       "Luxembourg        930.0  329748.145161  174024.518400   27500.0  235000.0   \n",
       "Oost-Vlaanderen  4353.0  420433.703193  265089.464950   79500.0  289000.0   \n",
       "Vlaams Brabant   1796.0  496249.076281  324114.874966   79000.0  303250.0   \n",
       "West-Vlaanderen  4960.0  598714.392742  733994.923220   49900.0  269000.0   \n",
       "\n",
       "                      50%        75%        max  \n",
       "province                                         \n",
       "Antwerpen        367500.0  485441.25  4385000.0  \n",
       "Brabant Wallon   409500.0  517750.00  4500000.0  \n",
       "Bruxelles        406000.0  615000.00  5500000.0  \n",
       "Hainaut          270000.0  329000.00  4500000.0  \n",
       "Limburg          333800.0  408318.00  2150000.0  \n",
       "Liège            250000.0  339000.00  2200000.0  \n",
       "Luxembourg       294900.0  386625.00  1790000.0  \n",
       "Oost-Vlaanderen  375000.0  457500.00  4450000.0  \n",
       "Vlaams Brabant   406308.5  579940.75  3140000.0  \n",
       "West-Vlaanderen  364000.0  595000.00  8900000.0  "
      ]
     },
     "execution_count": 34,
     "metadata": {},
     "output_type": "execute_result"
    }
   ],
   "source": [
    "(df.price.groupby(df.province).describe())"
   ]
  },
  {
   "cell_type": "code",
   "execution_count": 67,
   "metadata": {},
   "outputs": [
    {
     "data": {
      "text/plain": [
       "zip_code               311\n",
       "commune                311\n",
       "province               311\n",
       "type_of_property       311\n",
       "subtype_of_property    311\n",
       "price                  311\n",
       "building_condition     311\n",
       "facade_number          224\n",
       "living_area            311\n",
       "equipped_kitchen       311\n",
       "bedroom_nr             311\n",
       "swimming_pool          311\n",
       "furnished              311\n",
       "open_fire              311\n",
       "terrace                311\n",
       "garden                 311\n",
       "plot_surface           311\n",
       "dtype: int64"
      ]
     },
     "execution_count": 67,
     "metadata": {},
     "output_type": "execute_result"
    }
   ],
   "source": [
    "df[df.price >= 2000000].count()"
   ]
  },
  {
   "cell_type": "code",
   "execution_count": 63,
   "metadata": {},
   "outputs": [
    {
     "name": "stdout",
     "output_type": "stream",
     "text": [
      "building_condition\n",
      "good           16423\n",
      "no info         6683\n",
      "to renovate     2940\n",
      "to restore        65\n",
      "Name: count, dtype: int64\n"
     ]
    }
   ],
   "source": [
    "print(df.building_condition.value_counts(dropna=False))\n",
    "# -1 = to restore, 0 = to renovate, done up, 1 = no info, 2 = good"
   ]
  },
  {
   "cell_type": "code",
   "execution_count": null,
   "metadata": {},
   "outputs": [],
   "source": [
    "df.loc[(df['building_condition'] == 'as new') | (df['building_condition'] == 'just renovated'), ['building_condition']] = 'good'\n",
    "df.loc[df['building_condition'] == 'to be done up', ['building_condition']] = 'to renovate'\n",
    "df.loc[df['building_condition'].isna(), ['building_condition']] = 'no info'"
   ]
  },
  {
   "cell_type": "code",
   "execution_count": 46,
   "metadata": {},
   "outputs": [],
   "source": [
    "df.to_csv('cleaned-data.csv', index=False)"
   ]
  }
 ],
 "metadata": {
  "kernelspec": {
   "display_name": "Python 3",
   "language": "python",
   "name": "python3"
  },
  "language_info": {
   "codemirror_mode": {
    "name": "ipython",
    "version": 3
   },
   "file_extension": ".py",
   "mimetype": "text/x-python",
   "name": "python",
   "nbconvert_exporter": "python",
   "pygments_lexer": "ipython3",
   "version": "3.11.0"
  }
 },
 "nbformat": 4,
 "nbformat_minor": 2
}
