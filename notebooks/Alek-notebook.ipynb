{
 "cells": [
  {
   "cell_type": "code",
   "execution_count": 1,
   "metadata": {},
   "outputs": [],
   "source": [
    "import pandas as pd"
   ]
  },
  {
   "cell_type": "code",
   "execution_count": 2,
   "metadata": {},
   "outputs": [],
   "source": [
    "df = pd.read_csv('../cleaned-data.csv')"
   ]
  },
  {
   "cell_type": "code",
   "execution_count": 3,
   "metadata": {},
   "outputs": [
    {
     "data": {
      "text/html": [
       "<div>\n",
       "<style scoped>\n",
       "    .dataframe tbody tr th:only-of-type {\n",
       "        vertical-align: middle;\n",
       "    }\n",
       "\n",
       "    .dataframe tbody tr th {\n",
       "        vertical-align: top;\n",
       "    }\n",
       "\n",
       "    .dataframe thead th {\n",
       "        text-align: right;\n",
       "    }\n",
       "</style>\n",
       "<table border=\"1\" class=\"dataframe\">\n",
       "  <thead>\n",
       "    <tr style=\"text-align: right;\">\n",
       "      <th></th>\n",
       "      <th>zip_code</th>\n",
       "      <th>commune</th>\n",
       "      <th>province</th>\n",
       "      <th>type_of_property</th>\n",
       "      <th>subtype_of_property</th>\n",
       "      <th>price</th>\n",
       "      <th>building_condition</th>\n",
       "      <th>facade_number</th>\n",
       "      <th>living_area</th>\n",
       "      <th>equipped_kitchen</th>\n",
       "      <th>bedroom_nr</th>\n",
       "      <th>swimming_pool</th>\n",
       "      <th>furnished</th>\n",
       "      <th>open_fire</th>\n",
       "      <th>terrace</th>\n",
       "      <th>garden</th>\n",
       "      <th>plot_surface</th>\n",
       "    </tr>\n",
       "  </thead>\n",
       "  <tbody>\n",
       "    <tr>\n",
       "      <th>0</th>\n",
       "      <td>2600</td>\n",
       "      <td>Berchem</td>\n",
       "      <td>Antwerpen</td>\n",
       "      <td>0</td>\n",
       "      <td>apartment</td>\n",
       "      <td>149000.0</td>\n",
       "      <td>good</td>\n",
       "      <td>NaN</td>\n",
       "      <td>48</td>\n",
       "      <td>installed</td>\n",
       "      <td>1</td>\n",
       "      <td>0</td>\n",
       "      <td>0</td>\n",
       "      <td>0</td>\n",
       "      <td>9</td>\n",
       "      <td>0</td>\n",
       "      <td>0</td>\n",
       "    </tr>\n",
       "    <tr>\n",
       "      <th>1</th>\n",
       "      <td>2100</td>\n",
       "      <td>Deurne</td>\n",
       "      <td>Antwerpen</td>\n",
       "      <td>0</td>\n",
       "      <td>apartment</td>\n",
       "      <td>248000.0</td>\n",
       "      <td>good</td>\n",
       "      <td>NaN</td>\n",
       "      <td>91</td>\n",
       "      <td>installed</td>\n",
       "      <td>3</td>\n",
       "      <td>0</td>\n",
       "      <td>0</td>\n",
       "      <td>0</td>\n",
       "      <td>2</td>\n",
       "      <td>0</td>\n",
       "      <td>0</td>\n",
       "    </tr>\n",
       "    <tr>\n",
       "      <th>2</th>\n",
       "      <td>2660</td>\n",
       "      <td>Hoboken</td>\n",
       "      <td>Antwerpen</td>\n",
       "      <td>0</td>\n",
       "      <td>apartment</td>\n",
       "      <td>229000.0</td>\n",
       "      <td>as new</td>\n",
       "      <td>2.0</td>\n",
       "      <td>100</td>\n",
       "      <td>0</td>\n",
       "      <td>3</td>\n",
       "      <td>0</td>\n",
       "      <td>0</td>\n",
       "      <td>0</td>\n",
       "      <td>26</td>\n",
       "      <td>0</td>\n",
       "      <td>0</td>\n",
       "    </tr>\n",
       "    <tr>\n",
       "      <th>3</th>\n",
       "      <td>1180</td>\n",
       "      <td>Uccle</td>\n",
       "      <td>Bruxelles</td>\n",
       "      <td>0</td>\n",
       "      <td>apartment</td>\n",
       "      <td>470000.0</td>\n",
       "      <td>good</td>\n",
       "      <td>2.0</td>\n",
       "      <td>179</td>\n",
       "      <td>hyper equipped</td>\n",
       "      <td>3</td>\n",
       "      <td>0</td>\n",
       "      <td>0</td>\n",
       "      <td>0</td>\n",
       "      <td>10</td>\n",
       "      <td>0</td>\n",
       "      <td>0</td>\n",
       "    </tr>\n",
       "    <tr>\n",
       "      <th>4</th>\n",
       "      <td>2018</td>\n",
       "      <td>Antwerpen</td>\n",
       "      <td>Antwerpen</td>\n",
       "      <td>0</td>\n",
       "      <td>apartment</td>\n",
       "      <td>480000.0</td>\n",
       "      <td>just renovated</td>\n",
       "      <td>2.0</td>\n",
       "      <td>116</td>\n",
       "      <td>installed</td>\n",
       "      <td>2</td>\n",
       "      <td>0</td>\n",
       "      <td>0</td>\n",
       "      <td>0</td>\n",
       "      <td>7</td>\n",
       "      <td>0</td>\n",
       "      <td>0</td>\n",
       "    </tr>\n",
       "  </tbody>\n",
       "</table>\n",
       "</div>"
      ],
      "text/plain": [
       "   zip_code    commune   province  type_of_property subtype_of_property  \\\n",
       "0      2600    Berchem  Antwerpen                 0           apartment   \n",
       "1      2100     Deurne  Antwerpen                 0           apartment   \n",
       "2      2660    Hoboken  Antwerpen                 0           apartment   \n",
       "3      1180      Uccle  Bruxelles                 0           apartment   \n",
       "4      2018  Antwerpen  Antwerpen                 0           apartment   \n",
       "\n",
       "      price building_condition  facade_number  living_area equipped_kitchen  \\\n",
       "0  149000.0               good            NaN           48        installed   \n",
       "1  248000.0               good            NaN           91        installed   \n",
       "2  229000.0             as new            2.0          100                0   \n",
       "3  470000.0               good            2.0          179   hyper equipped   \n",
       "4  480000.0     just renovated            2.0          116        installed   \n",
       "\n",
       "   bedroom_nr  swimming_pool  furnished  open_fire  terrace  garden  \\\n",
       "0           1              0          0          0        9       0   \n",
       "1           3              0          0          0        2       0   \n",
       "2           3              0          0          0       26       0   \n",
       "3           3              0          0          0       10       0   \n",
       "4           2              0          0          0        7       0   \n",
       "\n",
       "   plot_surface  \n",
       "0             0  \n",
       "1             0  \n",
       "2             0  \n",
       "3             0  \n",
       "4             0  "
      ]
     },
     "execution_count": 3,
     "metadata": {},
     "output_type": "execute_result"
    }
   ],
   "source": [
    "df.head()"
   ]
  },
  {
   "cell_type": "code",
   "execution_count": null,
   "metadata": {},
   "outputs": [
    {
     "name": "stdout",
     "output_type": "stream",
     "text": [
      "facade_number\n",
      "NaN     9345\n",
      "2.0     8795\n",
      "4.0     4178\n",
      "3.0     3733\n",
      "1.0       54\n",
      "6.0        3\n",
      "5.0        2\n",
      "15.0       1\n",
      "Name: count, dtype: int64\n"
     ]
    }
   ],
   "source": [
    "print(df.facade_number.value_counts(dropna=False))"
   ]
  },
  {
   "cell_type": "code",
   "execution_count": null,
   "metadata": {},
   "outputs": [
    {
     "name": "stdout",
     "output_type": "stream",
     "text": [
      "building_condition\n",
      "good              8218\n",
      "as new            7057\n",
      "NaN               6683\n",
      "to renovate       1568\n",
      "to be done up     1372\n",
      "just renovated    1148\n",
      "to restore          65\n",
      "Name: count, dtype: int64\n"
     ]
    }
   ],
   "source": [
    "print(df.building_condition.value_counts(dropna=False))\n",
    "# -1 = to restore, 0 = to renovate, done up, 1 = no info, 2 = good"
   ]
  },
  {
   "cell_type": "code",
   "execution_count": 12,
   "metadata": {},
   "outputs": [
    {
     "name": "stdout",
     "output_type": "stream",
     "text": [
      "swimming_pool\n",
      "0    25604\n",
      "1      507\n",
      "Name: count, dtype: int64\n",
      "open_fire\n",
      "0    25916\n",
      "1      195\n",
      "Name: count, dtype: int64\n",
      "furnished\n",
      "0    25272\n",
      "1      839\n",
      "Name: count, dtype: int64\n"
     ]
    }
   ],
   "source": [
    "print(df.swimming_pool.value_counts(dropna=False))\n",
    "print(df.open_fire.value_counts(dropna=False))\n",
    "print(df.furnished.value_counts(dropna=False))"
   ]
  },
  {
   "cell_type": "code",
   "execution_count": 13,
   "metadata": {},
   "outputs": [
    {
     "name": "stdout",
     "output_type": "stream",
     "text": [
      "subtype_of_property\n",
      "apartment                  6374\n",
      "house                      6293\n",
      "apartment unit             6134\n",
      "house unit                 1746\n",
      "villa                       862\n",
      "duplex                      437\n",
      "penthouse                   389\n",
      "ground floor                388\n",
      "ground floor unit           361\n",
      "mixed use building          357\n",
      "flat studio unit            346\n",
      "apartment block             320\n",
      "flat studio                 315\n",
      "penthouse unit              296\n",
      "kot unit                    276\n",
      "exceptional property        160\n",
      "mansion                     149\n",
      "duplex unit                 148\n",
      "service flat                 98\n",
      "town house                   97\n",
      "country cottage              92\n",
      "bungalow                     91\n",
      "loft                         76\n",
      "service flat unit            58\n",
      "triplex                      49\n",
      "kot                          47\n",
      "farmhouse                    38\n",
      "loft unit                    37\n",
      "villa unit                   33\n",
      "manor house                  12\n",
      "chalet                       12\n",
      "castle                        9\n",
      "town house unit               5\n",
      "triplex unit                  2\n",
      "other property                2\n",
      "mixed use building unit       2\n",
      "Name: count, dtype: int64\n"
     ]
    }
   ],
   "source": [
    "print(df.subtype_of_property.value_counts(dropna=False))"
   ]
  },
  {
   "cell_type": "code",
   "execution_count": 11,
   "metadata": {},
   "outputs": [
    {
     "name": "stdout",
     "output_type": "stream",
     "text": [
      "terrace\n",
      "0      7130\n",
      "1      5299\n",
      "10      920\n",
      "8       699\n",
      "6       662\n",
      "       ... \n",
      "168       1\n",
      "285       1\n",
      "134       1\n",
      "96        1\n",
      "166       1\n",
      "Name: count, Length: 199, dtype: int64\n"
     ]
    }
   ],
   "source": [
    "print(df.terrace.value_counts(dropna=False))"
   ]
  },
  {
   "cell_type": "code",
   "execution_count": 14,
   "metadata": {},
   "outputs": [
    {
     "data": {
      "text/plain": [
       "1281"
      ]
     },
     "execution_count": 14,
     "metadata": {},
     "output_type": "execute_result"
    }
   ],
   "source": [
    "df.duplicated().sum()"
   ]
  },
  {
   "cell_type": "code",
   "execution_count": 7,
   "metadata": {},
   "outputs": [
    {
     "name": "stdout",
     "output_type": "stream",
     "text": [
      "equipped_kitchen\n",
      "0                     9261\n",
      "installed             7739\n",
      "hyper equipped        5786\n",
      "semi equipped         1999\n",
      "not installed          852\n",
      "usa hyper equipped     278\n",
      "usa installed          167\n",
      "usa semi equipped       19\n",
      "usa uninstalled         10\n",
      "Name: count, dtype: int64\n"
     ]
    }
   ],
   "source": [
    "print(df.equipped_kitchen.value_counts(dropna=False))\n",
    "#not installed, installed, equipped"
   ]
  },
  {
   "cell_type": "code",
   "execution_count": 21,
   "metadata": {},
   "outputs": [],
   "source": [
    "df.loc[df['equipped_kitchen'] == '0', ['equipped_kitchen']] = 'not installed'\n",
    "df.loc[df['equipped_kitchen'] == 'usa uninstalled', ['equipped_kitchen']] = 'not installed'"
   ]
  },
  {
   "cell_type": "code",
   "execution_count": 24,
   "metadata": {},
   "outputs": [],
   "source": [
    "df.loc[(df['equipped_kitchen'] != 'installed') & (df['equipped_kitchen'] != 'not installed'), ['equipped_kitchen']] = 'equipped'"
   ]
  },
  {
   "cell_type": "code",
   "execution_count": 25,
   "metadata": {},
   "outputs": [
    {
     "name": "stdout",
     "output_type": "stream",
     "text": [
      "equipped_kitchen\n",
      "not installed    10123\n",
      "equipped          8249\n",
      "installed         7739\n",
      "Name: count, dtype: int64\n"
     ]
    }
   ],
   "source": [
    "print(df.equipped_kitchen.value_counts(dropna=False))"
   ]
  },
  {
   "cell_type": "code",
   "execution_count": 27,
   "metadata": {},
   "outputs": [],
   "source": [
    "df.to_csv('cleaned-data.csv', index=False)"
   ]
  }
 ],
 "metadata": {
  "kernelspec": {
   "display_name": "Python 3",
   "language": "python",
   "name": "python3"
  },
  "language_info": {
   "codemirror_mode": {
    "name": "ipython",
    "version": 3
   },
   "file_extension": ".py",
   "mimetype": "text/x-python",
   "name": "python",
   "nbconvert_exporter": "python",
   "pygments_lexer": "ipython3",
   "version": "3.11.0"
  }
 },
 "nbformat": 4,
 "nbformat_minor": 2
}
