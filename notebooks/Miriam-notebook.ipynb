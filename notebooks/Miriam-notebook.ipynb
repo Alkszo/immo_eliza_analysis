{
 "cells": [
  {
   "cell_type": "markdown",
   "metadata": {},
   "source": [
    "## Data Inspection"
   ]
  },
  {
   "cell_type": "code",
   "execution_count": null,
   "metadata": {},
   "outputs": [],
   "source": [
    "import pandas as pd\n",
    "import seaborn as sns\n",
    "import matplotlib.pyplot as plt"
   ]
  },
  {
   "cell_type": "code",
   "execution_count": null,
   "metadata": {},
   "outputs": [],
   "source": [
    "# Import dataset\n",
    "df = pd.read_csv(\"../raw_data.csv\")"
   ]
  },
  {
   "cell_type": "code",
   "execution_count": null,
   "metadata": {},
   "outputs": [],
   "source": [
    "# Inspect dataset\n",
    "df.shape"
   ]
  },
  {
   "cell_type": "code",
   "execution_count": null,
   "metadata": {},
   "outputs": [],
   "source": [
    "df.info()"
   ]
  },
  {
   "cell_type": "code",
   "execution_count": null,
   "metadata": {},
   "outputs": [],
   "source": [
    "df.value_counts(\"zip_code\")"
   ]
  },
  {
   "cell_type": "code",
   "execution_count": null,
   "metadata": {},
   "outputs": [],
   "source": [
    "df.value_counts(\"commune\")"
   ]
  },
  {
   "cell_type": "code",
   "execution_count": null,
   "metadata": {},
   "outputs": [],
   "source": [
    "df.value_counts(\"province\")"
   ]
  },
  {
   "cell_type": "code",
   "execution_count": null,
   "metadata": {},
   "outputs": [],
   "source": [
    "df.value_counts(\"garden\")"
   ]
  },
  {
   "cell_type": "code",
   "execution_count": null,
   "metadata": {},
   "outputs": [],
   "source": [
    "df.value_counts(\"bedroom_nr\")"
   ]
  },
  {
   "cell_type": "code",
   "execution_count": null,
   "metadata": {},
   "outputs": [],
   "source": [
    "df.value_counts(\"building_condition\")"
   ]
  },
  {
   "cell_type": "code",
   "execution_count": null,
   "metadata": {},
   "outputs": [],
   "source": [
    "df.value_counts(\"plot_surface\")"
   ]
  },
  {
   "cell_type": "code",
   "execution_count": null,
   "metadata": {},
   "outputs": [],
   "source": [
    "df.describe()"
   ]
  },
  {
   "cell_type": "markdown",
   "metadata": {},
   "source": [
    "## Data Cleaning"
   ]
  },
  {
   "cell_type": "markdown",
   "metadata": {},
   "source": [
    "### Notes on missing values and zero values:\n",
    "\n",
    "**Missing Values:**\n",
    "\n",
    "* \"price\" column: 36 entries missing                **-> Drop (Alek) DONE**\n",
    "* \"building_condition\": 6690 entries missing        **-> Encode as \"Unknown\" -> Alek -> DONE**\n",
    "* \"facade_number\": 9362 entries missing             **-> Use median based on subtype of property! -> Me -> DONE**\n",
    "\n",
    "**Zero Values:**\n",
    "\n",
    "* \"living_area\": 5 entries with 0                   **-> Drop -> Me -> DONE**\n",
    "* \"equipped_kitchen\":                               **-> 0 means no equipped kitchen   -> OK**\n",
    "* \"bedroom_nr\": 890 entries with 0                  **-> Either studio apartments or mixed use buildings etc.  --> OK**\n",
    "* \"garden\": 20949 entries with 0                    **-> apr. 20% of df have a garden -> matches filter result in immoweb** \n",
    "                                                    **-> in our dataset apr. 50%, but we had 60% houses, here 39% houses**\n",
    "* \"plot_surface\": 16290 entries with 0              **-> Definition: based on entry in immoweb -> OK** \n",
    "\n",
    "\n",
    "**Other:**\n",
    "* \"terrace\":                               **>0 means no terrace, and number = surface?  -> OK**\n",
    "* \"garden\":                                **>same as terrace? -> OK**\n",
    "* \"subtype_of_property\"                    **> remove 'unit' -> Celina -> DONE**\n",
    "* \"building_condition\"                     **> Reduce number of categories -> Alek -> DONE**\n",
    "* \"equipped_kitchen\"                       **> reduce number of categories -> Alek -> DONE**"
   ]
  },
  {
   "cell_type": "code",
   "execution_count": null,
   "metadata": {},
   "outputs": [],
   "source": [
    "# See summary of missing values\n",
    "df.isna().sum()"
   ]
  },
  {
   "cell_type": "markdown",
   "metadata": {},
   "source": [
    "### Calculate missing value threshold and drop entries below or equal to"
   ]
  },
  {
   "cell_type": "code",
   "execution_count": null,
   "metadata": {},
   "outputs": [],
   "source": [
    "# Calculate missing value threshold\n",
    "threshold = len(df) * 0.05\n",
    "print(len(df))\n",
    "print(int(threshold))\n",
    "\n",
    "# Use Boolean indexing to filter for columns with missing values <= threshold and > 0\n",
    "cols_to_drop = df.columns[(df.isna().sum() <= threshold) & (df.isna().sum() > 0)]\n",
    "\n",
    "print(cols_to_drop)\n",
    "\n",
    "# To drop missing values\n",
    "df.dropna(subset=cols_to_drop, inplace=True)"
   ]
  },
  {
   "cell_type": "markdown",
   "metadata": {},
   "source": [
    "### Drop zero values in \"living_area\"\n"
   ]
  },
  {
   "cell_type": "code",
   "execution_count": null,
   "metadata": {},
   "outputs": [],
   "source": [
    "# Drop rows where 'living_area' is 0\n",
    "df = df[df[\"living_area\"] != 0]"
   ]
  },
  {
   "cell_type": "markdown",
   "metadata": {},
   "source": [
    "### Handling missing values in \"building_condition\"\n",
    "\n",
    "Options:\n",
    "\n",
    "* Fill with most frequent category (mode) --> No\n",
    "\n",
    "* Fill with a placeholder (e.g. \"Unknown\") --> OK"
   ]
  },
  {
   "cell_type": "markdown",
   "metadata": {},
   "source": [
    "#### Fill zero values in \"building_condition\" with \"Unknown\""
   ]
  },
  {
   "cell_type": "markdown",
   "metadata": {},
   "source": [
    "### Replace missing values in \"facade_number\" with median based on subtype of property"
   ]
  },
  {
   "cell_type": "code",
   "execution_count": null,
   "metadata": {},
   "outputs": [],
   "source": [
    "# Compute median facade number by subtype\n",
    "facade_dict = df.groupby(\"subtype_of_property\")[\"facade_number\"].median().to_dict()\n",
    "\n",
    "# Impute values\n",
    "df[\"facade_number\"] = df[\"facade_number\"].fillna(df[\"subtype_of_property\"].map(facade_dict))"
   ]
  },
  {
   "cell_type": "code",
   "execution_count": null,
   "metadata": {},
   "outputs": [],
   "source": [
    "df.isna().sum()"
   ]
  },
  {
   "cell_type": "markdown",
   "metadata": {},
   "source": [
    "## Check for duplicates"
   ]
  },
  {
   "cell_type": "code",
   "execution_count": null,
   "metadata": {},
   "outputs": [],
   "source": [
    "# Check for duplicates and count them\n",
    "num_duplicates = df.duplicated().sum()\n",
    "num_duplicates"
   ]
  },
  {
   "cell_type": "code",
   "execution_count": null,
   "metadata": {},
   "outputs": [],
   "source": [
    "# Remove duplicate rows and create cleaned df\n",
    "#df_unique = df.drop_duplicates()"
   ]
  },
  {
   "cell_type": "markdown",
   "metadata": {},
   "source": [
    "### Notes on duplicates:\n",
    "\n",
    "* 1284 duplicates found --> while scraping duplicates were eliminated, so the 1284 entries are in fact no duplicates"
   ]
  },
  {
   "cell_type": "markdown",
   "metadata": {},
   "source": [
    "## Check for blank spaces"
   ]
  },
  {
   "cell_type": "code",
   "execution_count": null,
   "metadata": {},
   "outputs": [],
   "source": [
    "# Check for leading/trailing spaces in string columns\n",
    "\n",
    "columns_with_spaces = [col for col in df.columns if df[col].dtype == 'object' and df[col].str.contains(r'^\\s+|\\s+$').any()]\n",
    "columns_with_spaces"
   ]
  },
  {
   "cell_type": "code",
   "execution_count": null,
   "metadata": {},
   "outputs": [],
   "source": [
    "# Check for multiple spaces within a string\n",
    "columns_with_spaces = [col for col in df.columns if df[col].dtype == 'object' and df[col].str.contains(r'  ').any()]\n",
    "columns_with_spaces"
   ]
  },
  {
   "cell_type": "markdown",
   "metadata": {},
   "source": [
    "#### Result: no leading or trailing whitespace and no double whitespace"
   ]
  },
  {
   "cell_type": "markdown",
   "metadata": {},
   "source": [
    "## Data Cleaning: Must-have features\n",
    "\n",
    "* No duplicates            -> OK\n",
    "* No blank spaces          -> OK\n",
    "* No empty values          -> OK\n",
    "* No errors                -> I guess\n",
    "\n",
    "Notes:\n",
    "* Duplicates: In the scraping code the listing id was checked to avoid duplicates; the entries in the df that appear as duplicates are new buildings that appear identical, but are in fact distinct listings"
   ]
  },
  {
   "cell_type": "markdown",
   "metadata": {},
   "source": [
    "## Step 2: Data Analysis"
   ]
  },
  {
   "cell_type": "markdown",
   "metadata": {},
   "source": [
    "Answer the following questions with a visualization if appropriate:\n",
    "\n",
    "* How many rows and columns?\n",
    "  26,106 rows and 17 columns\n",
    "  \n",
    "* What is the correlation between the variables and the price? (Why might that be?)\n",
    "  \n",
    "* How are variables correlated to each other? (Why?)\n",
    "  \n",
    "* Which variables have the greatest influence on the price? \n",
    "  \n",
    "* Which variables have the least influence on the price? \n",
    "  \n",
    "* How many qualitative and quantitative variables are there? 12 quantitative and 5 qualitative (commune, province, subtype of property, building_condition, equipped_kitchen)\n",
    "  \n",
    "* How would you transform these values into numerical values?\n",
    "  * commune                     -> ?\n",
    "  * province                    -> ?\n",
    "  * subtype of property         -> label encoding (ordinal)\n",
    "  * building_condition          -> label encoding (ordinal)\n",
    "  * equipped_kitchen           -> binary to 1 or 0 \n",
    "  \n",
    "* Percentage of missing values per column?  0 ?"
   ]
  },
  {
   "cell_type": "code",
   "execution_count": 34,
   "metadata": {},
   "outputs": [],
   "source": [
    "# Import cleaned dataset\n",
    "dfc = pd.read_csv(\"../cleaned-data.csv\")"
   ]
  },
  {
   "cell_type": "code",
   "execution_count": 35,
   "metadata": {},
   "outputs": [
    {
     "data": {
      "text/plain": [
       "(26106, 17)"
      ]
     },
     "execution_count": 35,
     "metadata": {},
     "output_type": "execute_result"
    }
   ],
   "source": [
    "dfc.shape"
   ]
  },
  {
   "cell_type": "code",
   "execution_count": 38,
   "metadata": {},
   "outputs": [
    {
     "name": "stdout",
     "output_type": "stream",
     "text": [
      "Quantitative variables: 12\n",
      "Qualitative variables: 5\n",
      "Qualitative variables: Index(['commune', 'province', 'subtype_of_property', 'building_condition',\n",
      "       'equipped_kitchen'],\n",
      "      dtype='object')\n"
     ]
    }
   ],
   "source": [
    "# Count quantitative (numerical) variables\n",
    "quantitative_vars = df.select_dtypes(include=['int64', 'float64']).columns\n",
    "num_quantitative = len(quantitative_vars)\n",
    "\n",
    "# Count qualitative (categorical) variables\n",
    "qualitative_vars = df.select_dtypes(include=['object', 'category']).columns\n",
    "num_qualitative = len(qualitative_vars)\n",
    "\n",
    "print(f\"Quantitative variables: {num_quantitative}\")\n",
    "print(f\"Qualitative variables: {num_qualitative}\")\n",
    "\n",
    "print(f\"Qualitative variables: {qualitative_vars}\")"
   ]
  },
  {
   "cell_type": "code",
   "execution_count": 42,
   "metadata": {},
   "outputs": [
    {
     "data": {
      "text/html": [
       "<div>\n",
       "<style scoped>\n",
       "    .dataframe tbody tr th:only-of-type {\n",
       "        vertical-align: middle;\n",
       "    }\n",
       "\n",
       "    .dataframe tbody tr th {\n",
       "        vertical-align: top;\n",
       "    }\n",
       "\n",
       "    .dataframe thead th {\n",
       "        text-align: right;\n",
       "    }\n",
       "</style>\n",
       "<table border=\"1\" class=\"dataframe\">\n",
       "  <thead>\n",
       "    <tr style=\"text-align: right;\">\n",
       "      <th></th>\n",
       "      <th>zip_code</th>\n",
       "      <th>commune</th>\n",
       "      <th>province</th>\n",
       "      <th>type_of_property</th>\n",
       "      <th>subtype_of_property</th>\n",
       "      <th>price</th>\n",
       "      <th>building_condition</th>\n",
       "      <th>facade_number</th>\n",
       "      <th>living_area</th>\n",
       "      <th>equipped_kitchen</th>\n",
       "      <th>bedroom_nr</th>\n",
       "      <th>swimming_pool</th>\n",
       "      <th>furnished</th>\n",
       "      <th>open_fire</th>\n",
       "      <th>terrace</th>\n",
       "      <th>garden</th>\n",
       "      <th>plot_surface</th>\n",
       "    </tr>\n",
       "  </thead>\n",
       "  <tbody>\n",
       "    <tr>\n",
       "      <th>0</th>\n",
       "      <td>[2600, 2100, 2660, 1180, 2018, 1050, 2160, 285...</td>\n",
       "      <td>[Berchem, Deurne, Hoboken, Uccle, Antwerpen, I...</td>\n",
       "      <td>[Antwerpen, Bruxelles, West-Vlaanderen, Oost-V...</td>\n",
       "      <td>[0, 1]</td>\n",
       "      <td>[apartment, penthouse, flat studio, ground flo...</td>\n",
       "      <td>[149000.0, 248000.0, 229000.0, 470000.0, 48000...</td>\n",
       "      <td>[good, to renovate, no info, to restore]</td>\n",
       "      <td>[2.0, 3.0, 4.0, 1.0, 5.0, 15.0, 6.0]</td>\n",
       "      <td>[48, 91, 100, 179, 116, 150, 99, 125, 90, 110,...</td>\n",
       "      <td>[installed, not installed, equipped]</td>\n",
       "      <td>[1, 3, 2, 4, 0, 8, 5, 6, 7, 16, 10, 13, 9, 12,...</td>\n",
       "      <td>[0, 1]</td>\n",
       "      <td>[0, 1]</td>\n",
       "      <td>[0, 1]</td>\n",
       "      <td>[9, 2, 26, 10, 7, 1, 4, 13, 14, 8, 25, 19, 12,...</td>\n",
       "      <td>[0, 18, 29, 70, 100, 5, 90, 33, 300, 35, 280, ...</td>\n",
       "      <td>[0, 1481, 606, 185, 268, 604, 94, 553, 136, 66...</td>\n",
       "    </tr>\n",
       "  </tbody>\n",
       "</table>\n",
       "</div>"
      ],
      "text/plain": [
       "                                            zip_code  \\\n",
       "0  [2600, 2100, 2660, 1180, 2018, 1050, 2160, 285...   \n",
       "\n",
       "                                             commune  \\\n",
       "0  [Berchem, Deurne, Hoboken, Uccle, Antwerpen, I...   \n",
       "\n",
       "                                            province type_of_property  \\\n",
       "0  [Antwerpen, Bruxelles, West-Vlaanderen, Oost-V...           [0, 1]   \n",
       "\n",
       "                                 subtype_of_property  \\\n",
       "0  [apartment, penthouse, flat studio, ground flo...   \n",
       "\n",
       "                                               price  \\\n",
       "0  [149000.0, 248000.0, 229000.0, 470000.0, 48000...   \n",
       "\n",
       "                         building_condition  \\\n",
       "0  [good, to renovate, no info, to restore]   \n",
       "\n",
       "                          facade_number  \\\n",
       "0  [2.0, 3.0, 4.0, 1.0, 5.0, 15.0, 6.0]   \n",
       "\n",
       "                                         living_area  \\\n",
       "0  [48, 91, 100, 179, 116, 150, 99, 125, 90, 110,...   \n",
       "\n",
       "                       equipped_kitchen  \\\n",
       "0  [installed, not installed, equipped]   \n",
       "\n",
       "                                          bedroom_nr swimming_pool furnished  \\\n",
       "0  [1, 3, 2, 4, 0, 8, 5, 6, 7, 16, 10, 13, 9, 12,...        [0, 1]    [0, 1]   \n",
       "\n",
       "  open_fire                                            terrace  \\\n",
       "0    [0, 1]  [9, 2, 26, 10, 7, 1, 4, 13, 14, 8, 25, 19, 12,...   \n",
       "\n",
       "                                              garden  \\\n",
       "0  [0, 18, 29, 70, 100, 5, 90, 33, 300, 35, 280, ...   \n",
       "\n",
       "                                        plot_surface  \n",
       "0  [0, 1481, 606, 185, 268, 604, 94, 553, 136, 66...  "
      ]
     },
     "execution_count": 42,
     "metadata": {},
     "output_type": "execute_result"
    }
   ],
   "source": [
    "# Extract unique values for each column\n",
    "unique_values = pd.DataFrame({col: [dfc[col].unique()] for col in df.columns})\n",
    "\n",
    "unique_values"
   ]
  },
  {
   "cell_type": "markdown",
   "metadata": {},
   "source": [
    "## Label encoding by manual mapping (transforming categorical in numerical data)"
   ]
  },
  {
   "cell_type": "markdown",
   "metadata": {},
   "source": [
    "#### Province"
   ]
  },
  {
   "cell_type": "code",
   "execution_count": null,
   "metadata": {},
   "outputs": [
    {
     "data": {
      "text/html": [
       "<div>\n",
       "<style scoped>\n",
       "    .dataframe tbody tr th:only-of-type {\n",
       "        vertical-align: middle;\n",
       "    }\n",
       "\n",
       "    .dataframe tbody tr th {\n",
       "        vertical-align: top;\n",
       "    }\n",
       "\n",
       "    .dataframe thead th {\n",
       "        text-align: right;\n",
       "    }\n",
       "</style>\n",
       "<table border=\"1\" class=\"dataframe\">\n",
       "  <thead>\n",
       "    <tr style=\"text-align: right;\">\n",
       "      <th></th>\n",
       "      <th>zip_code</th>\n",
       "      <th>commune</th>\n",
       "      <th>province</th>\n",
       "      <th>type_of_property</th>\n",
       "      <th>subtype_of_property</th>\n",
       "      <th>price</th>\n",
       "      <th>building_condition</th>\n",
       "      <th>facade_number</th>\n",
       "      <th>living_area</th>\n",
       "      <th>equipped_kitchen</th>\n",
       "      <th>bedroom_nr</th>\n",
       "      <th>swimming_pool</th>\n",
       "      <th>furnished</th>\n",
       "      <th>open_fire</th>\n",
       "      <th>terrace</th>\n",
       "      <th>garden</th>\n",
       "      <th>plot_surface</th>\n",
       "      <th>province_encoded</th>\n",
       "    </tr>\n",
       "  </thead>\n",
       "  <tbody>\n",
       "    <tr>\n",
       "      <th>0</th>\n",
       "      <td>2600</td>\n",
       "      <td>Berchem</td>\n",
       "      <td>Antwerpen</td>\n",
       "      <td>0</td>\n",
       "      <td>apartment</td>\n",
       "      <td>149000.0</td>\n",
       "      <td>good</td>\n",
       "      <td>2.0</td>\n",
       "      <td>48</td>\n",
       "      <td>installed</td>\n",
       "      <td>1</td>\n",
       "      <td>0</td>\n",
       "      <td>0</td>\n",
       "      <td>0</td>\n",
       "      <td>9</td>\n",
       "      <td>0</td>\n",
       "      <td>0</td>\n",
       "      <td>0</td>\n",
       "    </tr>\n",
       "    <tr>\n",
       "      <th>1</th>\n",
       "      <td>2100</td>\n",
       "      <td>Deurne</td>\n",
       "      <td>Antwerpen</td>\n",
       "      <td>0</td>\n",
       "      <td>apartment</td>\n",
       "      <td>248000.0</td>\n",
       "      <td>good</td>\n",
       "      <td>2.0</td>\n",
       "      <td>91</td>\n",
       "      <td>installed</td>\n",
       "      <td>3</td>\n",
       "      <td>0</td>\n",
       "      <td>0</td>\n",
       "      <td>0</td>\n",
       "      <td>2</td>\n",
       "      <td>0</td>\n",
       "      <td>0</td>\n",
       "      <td>0</td>\n",
       "    </tr>\n",
       "    <tr>\n",
       "      <th>2</th>\n",
       "      <td>2660</td>\n",
       "      <td>Hoboken</td>\n",
       "      <td>Antwerpen</td>\n",
       "      <td>0</td>\n",
       "      <td>apartment</td>\n",
       "      <td>229000.0</td>\n",
       "      <td>good</td>\n",
       "      <td>2.0</td>\n",
       "      <td>100</td>\n",
       "      <td>not installed</td>\n",
       "      <td>3</td>\n",
       "      <td>0</td>\n",
       "      <td>0</td>\n",
       "      <td>0</td>\n",
       "      <td>26</td>\n",
       "      <td>0</td>\n",
       "      <td>0</td>\n",
       "      <td>0</td>\n",
       "    </tr>\n",
       "    <tr>\n",
       "      <th>3</th>\n",
       "      <td>1180</td>\n",
       "      <td>Uccle</td>\n",
       "      <td>Bruxelles</td>\n",
       "      <td>0</td>\n",
       "      <td>apartment</td>\n",
       "      <td>470000.0</td>\n",
       "      <td>good</td>\n",
       "      <td>2.0</td>\n",
       "      <td>179</td>\n",
       "      <td>equipped</td>\n",
       "      <td>3</td>\n",
       "      <td>0</td>\n",
       "      <td>0</td>\n",
       "      <td>0</td>\n",
       "      <td>10</td>\n",
       "      <td>0</td>\n",
       "      <td>0</td>\n",
       "      <td>1</td>\n",
       "    </tr>\n",
       "    <tr>\n",
       "      <th>4</th>\n",
       "      <td>2018</td>\n",
       "      <td>Antwerpen</td>\n",
       "      <td>Antwerpen</td>\n",
       "      <td>0</td>\n",
       "      <td>apartment</td>\n",
       "      <td>480000.0</td>\n",
       "      <td>good</td>\n",
       "      <td>2.0</td>\n",
       "      <td>116</td>\n",
       "      <td>installed</td>\n",
       "      <td>2</td>\n",
       "      <td>0</td>\n",
       "      <td>0</td>\n",
       "      <td>0</td>\n",
       "      <td>7</td>\n",
       "      <td>0</td>\n",
       "      <td>0</td>\n",
       "      <td>0</td>\n",
       "    </tr>\n",
       "  </tbody>\n",
       "</table>\n",
       "</div>"
      ],
      "text/plain": [
       "   zip_code    commune   province  type_of_property subtype_of_property  \\\n",
       "0      2600    Berchem  Antwerpen                 0           apartment   \n",
       "1      2100     Deurne  Antwerpen                 0           apartment   \n",
       "2      2660    Hoboken  Antwerpen                 0           apartment   \n",
       "3      1180      Uccle  Bruxelles                 0           apartment   \n",
       "4      2018  Antwerpen  Antwerpen                 0           apartment   \n",
       "\n",
       "      price building_condition  facade_number  living_area equipped_kitchen  \\\n",
       "0  149000.0               good            2.0           48        installed   \n",
       "1  248000.0               good            2.0           91        installed   \n",
       "2  229000.0               good            2.0          100    not installed   \n",
       "3  470000.0               good            2.0          179         equipped   \n",
       "4  480000.0               good            2.0          116        installed   \n",
       "\n",
       "   bedroom_nr  swimming_pool  furnished  open_fire  terrace  garden  \\\n",
       "0           1              0          0          0        9       0   \n",
       "1           3              0          0          0        2       0   \n",
       "2           3              0          0          0       26       0   \n",
       "3           3              0          0          0       10       0   \n",
       "4           2              0          0          0        7       0   \n",
       "\n",
       "   plot_surface  province_encoded  \n",
       "0             0                 0  \n",
       "1             0                 0  \n",
       "2             0                 0  \n",
       "3             0                 1  \n",
       "4             0                 0  "
      ]
     },
     "execution_count": 44,
     "metadata": {},
     "output_type": "execute_result"
    }
   ],
   "source": [
    "# Define a mapping dictionary\n",
    "province_mapping = {\n",
    "    'Antwerpen': 1,\n",
    "    'Bruxelles': 2,\n",
    "    'West-Vlaanderen': 3,\n",
    "    'Oost-Vlaanderen': 4,\n",
    "    'Limburg': 5,\n",
    "    'Liège': 6,\n",
    "    'Vlaams Brabant': 7,\n",
    "    'Brabant Wallon': 8,\n",
    "    'Hainaut': 9,\n",
    "    'Luxembourg': 10\n",
    "}\n",
    "\n",
    "# Apply the mapping\n",
    "dfc['province_encoded'] = dfc['province'].map(province_mapping)\n",
    "\n",
    "# Display the result\n",
    "dfc.head()"
   ]
  },
  {
   "cell_type": "markdown",
   "metadata": {},
   "source": [
    "#### Subtype of Property\n",
    "\n",
    "Grouping Similar Subtypes into Categories\n",
    "\n",
    "Example Grouping:\n",
    "* 1 (Apartments): 'apartment', 'flat studio', 'penthouse', 'ground floor', 'loft'\n",
    "* 2 (Houses): 'house', 'villa', 'bungalow', 'town house', 'manor house'\n",
    "* 3 (Luxury Properties): 'mansion', 'castle', 'exceptional property'\n",
    "* 4 (Mixed Use): 'mixed use building', 'service flat'\n",
    "* 5 (Other): 'kot', 'triplex', 'country cottage', 'farmhouse', 'chalet', 'other property'"
   ]
  },
  {
   "cell_type": "code",
   "execution_count": null,
   "metadata": {},
   "outputs": [],
   "source": [
    "# Define grouped mapping\n",
    "property_group_mapping = {\n",
    "    'apartment': 1, 'flat studio': 1, 'penthouse': 1, 'ground floor': 1, 'loft': 1,\n",
    "    'house': 2, 'villa': 2, 'bungalow': 2, 'town house': 2, 'manor house': 2,\n",
    "    'mansion': 3, 'castle': 3, 'exceptional property': 3,\n",
    "    'mixed use building': 4, 'service flat': 4,\n",
    "    'kot': 5, 'triplex': 5, 'country cottage': 5, 'farmhouse': 5, 'chalet': 5, 'other property': 5\n",
    "}\n",
    "\n",
    "# Apply the grouped mapping\n",
    "dfc['property_group_encoded'] = dfc['subtype_of_property'].map(property_group_mapping)"
   ]
  },
  {
   "cell_type": "markdown",
   "metadata": {},
   "source": [
    "#### Building condition"
   ]
  },
  {
   "cell_type": "code",
   "execution_count": null,
   "metadata": {},
   "outputs": [],
   "source": [
    "# Define the mapping based on condition quality\n",
    "building_condition_mapping = {\n",
    "    'good': 1,\n",
    "    'to renovate': 2,\n",
    "    'to restore': 3,\n",
    "    'no info': 4  # Treat as a separate category\n",
    "}\n",
    "\n",
    "# Apply the mapping\n",
    "dfc['building_condition_encoded'] = dfc['building_condition'].map(building_condition_mapping)"
   ]
  },
  {
   "cell_type": "markdown",
   "metadata": {},
   "source": [
    "### Kitchen: binary"
   ]
  },
  {
   "cell_type": "code",
   "execution_count": null,
   "metadata": {},
   "outputs": [],
   "source": [
    "# Create the new column based on the condition\n",
    "dfc['equipped_kitchen_binary'] = dfc['equipped_kitchen'].apply(lambda x: 1 if x == 'equipped' else 0)\n",
    "\n",
    "# Display the updated DataFrame\n",
    "dfc.head()"
   ]
  },
  {
   "cell_type": "markdown",
   "metadata": {},
   "source": [
    "## Exploring relationships"
   ]
  },
  {
   "cell_type": "code",
   "execution_count": 39,
   "metadata": {},
   "outputs": [
    {
     "data": {
      "image/png": "[encoded data removed]",
      "text/plain": [
       "<Figure size 640x480 with 1 Axes>"
      ]
     },
     "metadata": {},
     "output_type": "display_data"
    }
   ],
   "source": [
    "# Exploring relationships between two numerical variables\n",
    "\n",
    "# x-axis for variable controlled\n",
    "# y-axis for outcome or response\n",
    "\n",
    "sns.scatterplot(x='living_area', y='price', data=dfc)\n",
    "plt.title(\"Living Area vs. Price\")\n",
    "plt.show()"
   ]
  }
 ],
 "metadata": {
  "kernelspec": {
   "display_name": "Python 3",
   "language": "python",
   "name": "python3"
  },
  "language_info": {
   "codemirror_mode": {
    "name": "ipython",
    "version": 3
   },
   "file_extension": ".py",
   "mimetype": "text/x-python",
   "name": "python",
   "nbconvert_exporter": "python",
   "pygments_lexer": "ipython3",
   "version": "3.11.0"
  }
 },
 "nbformat": 4,
 "nbformat_minor": 2
}
