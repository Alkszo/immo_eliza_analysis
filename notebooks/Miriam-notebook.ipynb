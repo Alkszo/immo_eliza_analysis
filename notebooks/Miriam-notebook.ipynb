{
 "cells": [
  {
   "cell_type": "markdown",
   "metadata": {},
   "source": [
    "## Data Inspection"
   ]
  },
  {
   "cell_type": "code",
   "execution_count": 1,
   "metadata": {},
   "outputs": [],
   "source": [
    "import pandas as pd\n",
    "import seaborn as sns\n",
    "import matplotlib.pyplot as plt"
   ]
  },
  {
   "cell_type": "code",
   "execution_count": 2,
   "metadata": {},
   "outputs": [],
   "source": [
    "# Import dataset\n",
    "properties = pd.read_csv(\"../raw_data.csv\")"
   ]
  },
  {
   "cell_type": "code",
   "execution_count": 3,
   "metadata": {},
   "outputs": [
    {
     "data": {
      "text/plain": [
       "(26147, 17)"
      ]
     },
     "execution_count": 3,
     "metadata": {},
     "output_type": "execute_result"
    }
   ],
   "source": [
    "# Inspect dataset\n",
    "properties.shape"
   ]
  },
  {
   "cell_type": "code",
   "execution_count": 4,
   "metadata": {},
   "outputs": [
    {
     "name": "stdout",
     "output_type": "stream",
     "text": [
      "<class 'pandas.core.frame.DataFrame'>\n",
      "RangeIndex: 26147 entries, 0 to 26146\n",
      "Data columns (total 17 columns):\n",
      " #   Column               Non-Null Count  Dtype  \n",
      "---  ------               --------------  -----  \n",
      " 0   zip_code             26147 non-null  int64  \n",
      " 1   commune              26147 non-null  object \n",
      " 2   province             26147 non-null  object \n",
      " 3   type_of_property     26147 non-null  int64  \n",
      " 4   subtype_of_property  26147 non-null  object \n",
      " 5   price                26111 non-null  float64\n",
      " 6   building_condition   19457 non-null  object \n",
      " 7   facade_number        16785 non-null  float64\n",
      " 8   living_area          26147 non-null  int64  \n",
      " 9   equipped_kitchen     26147 non-null  object \n",
      " 10  bedroom_nr           26147 non-null  int64  \n",
      " 11  swimming_pool        26147 non-null  int64  \n",
      " 12  furnished            26147 non-null  int64  \n",
      " 13  open_fire            26147 non-null  int64  \n",
      " 14  terrace              26147 non-null  int64  \n",
      " 15  garden               26147 non-null  int64  \n",
      " 16  plot_surface         26147 non-null  int64  \n",
      "dtypes: float64(2), int64(10), object(5)\n",
      "memory usage: 3.4+ MB\n"
     ]
    }
   ],
   "source": [
    "properties.info()"
   ]
  },
  {
   "cell_type": "code",
   "execution_count": 5,
   "metadata": {},
   "outputs": [
    {
     "data": {
      "text/plain": [
       "zip_code\n",
       "8300    918\n",
       "1000    626\n",
       "1070    564\n",
       "9000    564\n",
       "1180    548\n",
       "       ... \n",
       "7024      1\n",
       "7033      1\n",
       "7034      1\n",
       "4287      1\n",
       "9970      1\n",
       "Name: count, Length: 875, dtype: int64"
      ]
     },
     "execution_count": 5,
     "metadata": {},
     "output_type": "execute_result"
    }
   ],
   "source": [
    "properties.value_counts(\"zip_code\")"
   ]
  },
  {
   "cell_type": "code",
   "execution_count": 6,
   "metadata": {},
   "outputs": [
    {
     "data": {
      "text/plain": [
       "commune\n",
       "Westkapelle     918\n",
       "Antwerpen       692\n",
       "Bruxelles       626\n",
       "Gent            564\n",
       "Anderlecht      564\n",
       "               ... \n",
       "Bilstain          1\n",
       "Binkom            1\n",
       "Basse-Bodeux      1\n",
       "Baulers           1\n",
       "Zillebeke         1\n",
       "Name: count, Length: 849, dtype: int64"
      ]
     },
     "execution_count": 6,
     "metadata": {},
     "output_type": "execute_result"
    }
   ],
   "source": [
    "properties.value_counts(\"commune\")"
   ]
  },
  {
   "cell_type": "code",
   "execution_count": 7,
   "metadata": {},
   "outputs": [
    {
     "data": {
      "text/plain": [
       "province\n",
       "Bruxelles          5127\n",
       "West-Vlaanderen    4964\n",
       "Oost-Vlaanderen    4364\n",
       "Antwerpen          3194\n",
       "Hainaut            2157\n",
       "Liège              2147\n",
       "Vlaams Brabant     1796\n",
       "Brabant Wallon      980\n",
       "Luxembourg          938\n",
       "Limburg             480\n",
       "Name: count, dtype: int64"
      ]
     },
     "execution_count": 7,
     "metadata": {},
     "output_type": "execute_result"
    }
   ],
   "source": [
    "properties.value_counts(\"province\")"
   ]
  },
  {
   "cell_type": "code",
   "execution_count": 8,
   "metadata": {},
   "outputs": [
    {
     "data": {
      "text/plain": [
       "garden\n",
       "0        20949\n",
       "100        138\n",
       "1          111\n",
       "200        101\n",
       "50          99\n",
       "         ...  \n",
       "634          1\n",
       "11500        1\n",
       "6900         1\n",
       "6996         1\n",
       "7600         1\n",
       "Name: count, Length: 948, dtype: int64"
      ]
     },
     "execution_count": 8,
     "metadata": {},
     "output_type": "execute_result"
    }
   ],
   "source": [
    "properties.value_counts(\"garden\")"
   ]
  },
  {
   "cell_type": "code",
   "execution_count": 9,
   "metadata": {},
   "outputs": [
    {
     "data": {
      "text/plain": [
       "bedroom_nr\n",
       "2     9304\n",
       "3     7974\n",
       "1     3251\n",
       "4     2973\n",
       "5     1025\n",
       "0      890\n",
       "6      427\n",
       "7      143\n",
       "8       76\n",
       "9       26\n",
       "10      18\n",
       "16       9\n",
       "12       8\n",
       "13       8\n",
       "11       6\n",
       "20       3\n",
       "24       2\n",
       "15       1\n",
       "14       1\n",
       "18       1\n",
       "25       1\n",
       "Name: count, dtype: int64"
      ]
     },
     "execution_count": 9,
     "metadata": {},
     "output_type": "execute_result"
    }
   ],
   "source": [
    "properties.value_counts(\"bedroom_nr\")"
   ]
  },
  {
   "cell_type": "code",
   "execution_count": 10,
   "metadata": {},
   "outputs": [
    {
     "data": {
      "text/plain": [
       "type_of_property\n",
       "0    15843\n",
       "1    10304\n",
       "Name: count, dtype: int64"
      ]
     },
     "execution_count": 10,
     "metadata": {},
     "output_type": "execute_result"
    }
   ],
   "source": [
    "properties.value_counts(\"type_of_property\")"
   ]
  },
  {
   "cell_type": "code",
   "execution_count": 11,
   "metadata": {},
   "outputs": [
    {
     "data": {
      "text/plain": [
       "plot_surface\n",
       "0        16290\n",
       "200         74\n",
       "120         66\n",
       "150         58\n",
       "250         56\n",
       "         ...  \n",
       "23159        1\n",
       "23290        1\n",
       "23503        1\n",
       "23912        1\n",
       "24091        1\n",
       "Name: count, Length: 2192, dtype: int64"
      ]
     },
     "execution_count": 11,
     "metadata": {},
     "output_type": "execute_result"
    }
   ],
   "source": [
    "properties.value_counts(\"plot_surface\")"
   ]
  },
  {
   "cell_type": "code",
   "execution_count": 12,
   "metadata": {},
   "outputs": [
    {
     "data": {
      "text/html": [
       "<div>\n",
       "<style scoped>\n",
       "    .dataframe tbody tr th:only-of-type {\n",
       "        vertical-align: middle;\n",
       "    }\n",
       "\n",
       "    .dataframe tbody tr th {\n",
       "        vertical-align: top;\n",
       "    }\n",
       "\n",
       "    .dataframe thead th {\n",
       "        text-align: right;\n",
       "    }\n",
       "</style>\n",
       "<table border=\"1\" class=\"dataframe\">\n",
       "  <thead>\n",
       "    <tr style=\"text-align: right;\">\n",
       "      <th></th>\n",
       "      <th>zip_code</th>\n",
       "      <th>type_of_property</th>\n",
       "      <th>price</th>\n",
       "      <th>facade_number</th>\n",
       "      <th>living_area</th>\n",
       "      <th>bedroom_nr</th>\n",
       "      <th>swimming_pool</th>\n",
       "      <th>furnished</th>\n",
       "      <th>open_fire</th>\n",
       "      <th>terrace</th>\n",
       "      <th>garden</th>\n",
       "      <th>plot_surface</th>\n",
       "    </tr>\n",
       "  </thead>\n",
       "  <tbody>\n",
       "    <tr>\n",
       "      <th>count</th>\n",
       "      <td>26147.000000</td>\n",
       "      <td>26147.000000</td>\n",
       "      <td>2.611100e+04</td>\n",
       "      <td>16785.000000</td>\n",
       "      <td>26147.000000</td>\n",
       "      <td>26147.000000</td>\n",
       "      <td>26147.000000</td>\n",
       "      <td>26147.000000</td>\n",
       "      <td>26147.000000</td>\n",
       "      <td>26147.000000</td>\n",
       "      <td>26147.000000</td>\n",
       "      <td>26147.000000</td>\n",
       "    </tr>\n",
       "    <tr>\n",
       "      <th>mean</th>\n",
       "      <td>5085.507821</td>\n",
       "      <td>0.394080</td>\n",
       "      <td>4.594943e+05</td>\n",
       "      <td>2.720167</td>\n",
       "      <td>143.557425</td>\n",
       "      <td>2.599648</td>\n",
       "      <td>0.019429</td>\n",
       "      <td>0.032088</td>\n",
       "      <td>0.007458</td>\n",
       "      <td>12.193942</td>\n",
       "      <td>102.666692</td>\n",
       "      <td>407.083681</td>\n",
       "    </tr>\n",
       "    <tr>\n",
       "      <th>std</th>\n",
       "      <td>3283.479987</td>\n",
       "      <td>0.488661</td>\n",
       "      <td>4.355173e+05</td>\n",
       "      <td>0.847971</td>\n",
       "      <td>97.351713</td>\n",
       "      <td>1.370721</td>\n",
       "      <td>0.138029</td>\n",
       "      <td>0.176237</td>\n",
       "      <td>0.086038</td>\n",
       "      <td>43.316550</td>\n",
       "      <td>676.906691</td>\n",
       "      <td>2650.878092</td>\n",
       "    </tr>\n",
       "    <tr>\n",
       "      <th>min</th>\n",
       "      <td>1000.000000</td>\n",
       "      <td>0.000000</td>\n",
       "      <td>2.750000e+04</td>\n",
       "      <td>1.000000</td>\n",
       "      <td>0.000000</td>\n",
       "      <td>0.000000</td>\n",
       "      <td>0.000000</td>\n",
       "      <td>0.000000</td>\n",
       "      <td>0.000000</td>\n",
       "      <td>0.000000</td>\n",
       "      <td>0.000000</td>\n",
       "      <td>0.000000</td>\n",
       "    </tr>\n",
       "    <tr>\n",
       "      <th>25%</th>\n",
       "      <td>1743.500000</td>\n",
       "      <td>0.000000</td>\n",
       "      <td>2.650000e+05</td>\n",
       "      <td>2.000000</td>\n",
       "      <td>88.000000</td>\n",
       "      <td>2.000000</td>\n",
       "      <td>0.000000</td>\n",
       "      <td>0.000000</td>\n",
       "      <td>0.000000</td>\n",
       "      <td>0.000000</td>\n",
       "      <td>0.000000</td>\n",
       "      <td>0.000000</td>\n",
       "    </tr>\n",
       "    <tr>\n",
       "      <th>50%</th>\n",
       "      <td>4480.000000</td>\n",
       "      <td>0.000000</td>\n",
       "      <td>3.500000e+05</td>\n",
       "      <td>2.000000</td>\n",
       "      <td>116.000000</td>\n",
       "      <td>2.000000</td>\n",
       "      <td>0.000000</td>\n",
       "      <td>0.000000</td>\n",
       "      <td>0.000000</td>\n",
       "      <td>4.000000</td>\n",
       "      <td>0.000000</td>\n",
       "      <td>0.000000</td>\n",
       "    </tr>\n",
       "    <tr>\n",
       "      <th>75%</th>\n",
       "      <td>8460.000000</td>\n",
       "      <td>1.000000</td>\n",
       "      <td>4.921000e+05</td>\n",
       "      <td>3.000000</td>\n",
       "      <td>170.000000</td>\n",
       "      <td>3.000000</td>\n",
       "      <td>0.000000</td>\n",
       "      <td>0.000000</td>\n",
       "      <td>0.000000</td>\n",
       "      <td>15.000000</td>\n",
       "      <td>0.000000</td>\n",
       "      <td>255.000000</td>\n",
       "    </tr>\n",
       "    <tr>\n",
       "      <th>max</th>\n",
       "      <td>9992.000000</td>\n",
       "      <td>1.000000</td>\n",
       "      <td>8.900000e+06</td>\n",
       "      <td>15.000000</td>\n",
       "      <td>992.000000</td>\n",
       "      <td>25.000000</td>\n",
       "      <td>1.000000</td>\n",
       "      <td>1.000000</td>\n",
       "      <td>1.000000</td>\n",
       "      <td>3749.000000</td>\n",
       "      <td>50000.000000</td>\n",
       "      <td>160737.000000</td>\n",
       "    </tr>\n",
       "  </tbody>\n",
       "</table>\n",
       "</div>"
      ],
      "text/plain": [
       "           zip_code  type_of_property         price  facade_number  \\\n",
       "count  26147.000000      26147.000000  2.611100e+04   16785.000000   \n",
       "mean    5085.507821          0.394080  4.594943e+05       2.720167   \n",
       "std     3283.479987          0.488661  4.355173e+05       0.847971   \n",
       "min     1000.000000          0.000000  2.750000e+04       1.000000   \n",
       "25%     1743.500000          0.000000  2.650000e+05       2.000000   \n",
       "50%     4480.000000          0.000000  3.500000e+05       2.000000   \n",
       "75%     8460.000000          1.000000  4.921000e+05       3.000000   \n",
       "max     9992.000000          1.000000  8.900000e+06      15.000000   \n",
       "\n",
       "        living_area    bedroom_nr  swimming_pool     furnished     open_fire  \\\n",
       "count  26147.000000  26147.000000   26147.000000  26147.000000  26147.000000   \n",
       "mean     143.557425      2.599648       0.019429      0.032088      0.007458   \n",
       "std       97.351713      1.370721       0.138029      0.176237      0.086038   \n",
       "min        0.000000      0.000000       0.000000      0.000000      0.000000   \n",
       "25%       88.000000      2.000000       0.000000      0.000000      0.000000   \n",
       "50%      116.000000      2.000000       0.000000      0.000000      0.000000   \n",
       "75%      170.000000      3.000000       0.000000      0.000000      0.000000   \n",
       "max      992.000000     25.000000       1.000000      1.000000      1.000000   \n",
       "\n",
       "            terrace        garden   plot_surface  \n",
       "count  26147.000000  26147.000000   26147.000000  \n",
       "mean      12.193942    102.666692     407.083681  \n",
       "std       43.316550    676.906691    2650.878092  \n",
       "min        0.000000      0.000000       0.000000  \n",
       "25%        0.000000      0.000000       0.000000  \n",
       "50%        4.000000      0.000000       0.000000  \n",
       "75%       15.000000      0.000000     255.000000  \n",
       "max     3749.000000  50000.000000  160737.000000  "
      ]
     },
     "execution_count": 12,
     "metadata": {},
     "output_type": "execute_result"
    }
   ],
   "source": [
    "properties.describe()"
   ]
  },
  {
   "cell_type": "markdown",
   "metadata": {},
   "source": [
    "## Data Cleaning"
   ]
  },
  {
   "cell_type": "markdown",
   "metadata": {},
   "source": [
    "### Notes on missing values and zero values:\n",
    "\n",
    "**Missing Values:**\n",
    "\n",
    "* \"price\" column: 36 entries missing                **-> Drop**\n",
    "* \"building_condition\": 6690 entries missing        **-> Use mode? Encode as numbers and fill with average?**\n",
    "* \"facade_number\": 9362 entries missing             **-> Use median based on subtype of property**\n",
    "\n",
    "**Zero Values:**\n",
    "\n",
    "* \"living_area\": 5 entries with 0                   **-> Drop**\n",
    "* \"equipped_kitchen\":                               **-> Does 0 mean no?**\n",
    "* \"bedroom_nr\": 890 entries with 0                  **-> Take average based on living_area?**\n",
    "* \"garden\": 20949 entries with 0                    **-> apr. 20% of properties have a garden -> matches filter result in immoweb** \n",
    "                                                    **-> in our dataset apr. 50%, but we had 60% houses, here 39% houses**\n",
    "* \"plot_surface\": 16290 entries with 0              **-> what was the definition?** \n",
    "\n",
    "\n",
    "**Other:**\n",
    "* \"terrace\":                               **->0 means no terrace, and number = surface?**\n",
    "* \"garden\":                                **->same as terrace?**"
   ]
  },
  {
   "cell_type": "code",
   "execution_count": 13,
   "metadata": {},
   "outputs": [
    {
     "data": {
      "text/plain": [
       "zip_code                  0\n",
       "commune                   0\n",
       "province                  0\n",
       "type_of_property          0\n",
       "subtype_of_property       0\n",
       "price                    36\n",
       "building_condition     6690\n",
       "facade_number          9362\n",
       "living_area               0\n",
       "equipped_kitchen          0\n",
       "bedroom_nr                0\n",
       "swimming_pool             0\n",
       "furnished                 0\n",
       "open_fire                 0\n",
       "terrace                   0\n",
       "garden                    0\n",
       "plot_surface              0\n",
       "dtype: int64"
      ]
     },
     "execution_count": 13,
     "metadata": {},
     "output_type": "execute_result"
    }
   ],
   "source": [
    "# See summary of missing values\n",
    "properties.isna().sum()"
   ]
  },
  {
   "cell_type": "markdown",
   "metadata": {},
   "source": [
    "### Calculate missing value threshold and drop entries below or equal to"
   ]
  },
  {
   "cell_type": "code",
   "execution_count": 14,
   "metadata": {},
   "outputs": [
    {
     "name": "stdout",
     "output_type": "stream",
     "text": [
      "26147\n",
      "1307\n",
      "Index(['price'], dtype='object')\n"
     ]
    }
   ],
   "source": [
    "# Calculate missing value threshold\n",
    "threshold = len(properties) * 0.05\n",
    "print(len(properties))\n",
    "print(int(threshold))\n",
    "\n",
    "# Use Boolean indexing to filter for columns with missing values <= threshold and > 0\n",
    "cols_to_drop = properties.columns[(properties.isna().sum() <= threshold) & (properties.isna().sum() > 0)]\n",
    "\n",
    "print(cols_to_drop)\n",
    "\n",
    "# To drop missing values\n",
    "properties.dropna(subset=cols_to_drop, inplace=True)"
   ]
  },
  {
   "cell_type": "markdown",
   "metadata": {},
   "source": [
    "### Drop zero values in \"living_area\"\n"
   ]
  },
  {
   "cell_type": "code",
   "execution_count": null,
   "metadata": {},
   "outputs": [],
   "source": [
    "# Drop rows where 'living_area' is 0\n",
    "properties = properties[properties[\"living_area\"] != 0]"
   ]
  },
  {
   "cell_type": "markdown",
   "metadata": {},
   "source": [
    "### Handling missing values in \"building_condition\"\n",
    "\n",
    "Options:\n",
    "\n",
    "* Fill with most frequent category (mode)\n",
    "\n",
    "* Fill with a placeholder (e.g. \"Unknown\")"
   ]
  },
  {
   "cell_type": "markdown",
   "metadata": {},
   "source": [
    "#### Fill zero values in \"building_condition\" with mode"
   ]
  },
  {
   "cell_type": "code",
   "execution_count": 15,
   "metadata": {},
   "outputs": [
    {
     "data": {
      "text/plain": [
       "'good'"
      ]
     },
     "execution_count": 15,
     "metadata": {},
     "output_type": "execute_result"
    }
   ],
   "source": [
    "mode_value = properties['building_condition'].mode()[0]\n",
    "mode_value"
   ]
  },
  {
   "cell_type": "code",
   "execution_count": 16,
   "metadata": {},
   "outputs": [],
   "source": [
    "properties['building_condition'] = properties['building_condition'].fillna(mode_value)"
   ]
  },
  {
   "cell_type": "markdown",
   "metadata": {},
   "source": [
    "### Replace missing values in \"facade_number\" with median based on subtype of property"
   ]
  },
  {
   "cell_type": "code",
   "execution_count": null,
   "metadata": {},
   "outputs": [],
   "source": [
    "# Compute median facade number by subtype\n",
    "facade_dict = properties.groupby(\"subtype_of_property\")[\"facade_number\"].median().to_dict()\n",
    "\n",
    "# Impute values\n",
    "properties[\"facade_number\"] = properties[\"facade_number\"].fillna(properties[\"subtype_of_property\"].map(facade_dict))"
   ]
  },
  {
   "cell_type": "code",
   "execution_count": null,
   "metadata": {},
   "outputs": [],
   "source": [
    "properties.isna().sum()"
   ]
  },
  {
   "cell_type": "markdown",
   "metadata": {},
   "source": [
    "## Check for duplicates"
   ]
  },
  {
   "cell_type": "code",
   "execution_count": null,
   "metadata": {},
   "outputs": [],
   "source": [
    "# Check for duplicates and count them\n",
    "num_duplicates = properties.duplicated().sum()\n",
    "num_duplicates"
   ]
  },
  {
   "cell_type": "code",
   "execution_count": null,
   "metadata": {},
   "outputs": [],
   "source": [
    "# Remove duplicate rows and create cleaned df\n",
    "properties_unique = properties.drop_duplicates()"
   ]
  },
  {
   "cell_type": "code",
   "execution_count": null,
   "metadata": {},
   "outputs": [],
   "source": [
    "properties_unique.shape"
   ]
  },
  {
   "cell_type": "markdown",
   "metadata": {},
   "source": [
    "### Notes on duplicates:\n",
    "\n",
    "* 1284 duplicates found"
   ]
  },
  {
   "cell_type": "markdown",
   "metadata": {},
   "source": [
    "## Check for blank spaces"
   ]
  }
 ],
 "metadata": {
  "kernelspec": {
   "display_name": "Python 3",
   "language": "python",
   "name": "python3"
  },
  "language_info": {
   "codemirror_mode": {
    "name": "ipython",
    "version": 3
   },
   "file_extension": ".py",
   "mimetype": "text/x-python",
   "name": "python",
   "nbconvert_exporter": "python",
   "pygments_lexer": "ipython3",
   "version": "3.13.0"
  }
 },
 "nbformat": 4,
 "nbformat_minor": 2
}
