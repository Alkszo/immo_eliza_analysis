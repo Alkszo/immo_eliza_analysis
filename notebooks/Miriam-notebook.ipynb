{
 "cells": [
  {
   "cell_type": "markdown",
   "metadata": {},
   "source": [
    "## Data Inspection"
   ]
  },
  {
   "cell_type": "code",
   "execution_count": 1,
   "metadata": {},
   "outputs": [],
   "source": [
    "import pandas as pd\n",
    "import seaborn as sns\n",
    "import matplotlib.pyplot as plt"
   ]
  },
  {
   "cell_type": "code",
   "execution_count": 2,
   "metadata": {},
   "outputs": [],
   "source": [
    "# Import dataset\n",
    "df = pd.read_csv(\"../raw_data.csv\")"
   ]
  },
  {
   "cell_type": "code",
   "execution_count": 3,
   "metadata": {},
   "outputs": [
    {
     "data": {
      "text/plain": [
       "(26147, 17)"
      ]
     },
     "execution_count": 3,
     "metadata": {},
     "output_type": "execute_result"
    }
   ],
   "source": [
    "# Inspect dataset\n",
    "df.shape"
   ]
  },
  {
   "cell_type": "code",
   "execution_count": 4,
   "metadata": {},
   "outputs": [
    {
     "name": "stdout",
     "output_type": "stream",
     "text": [
      "<class 'pandas.core.frame.DataFrame'>\n",
      "RangeIndex: 26147 entries, 0 to 26146\n",
      "Data columns (total 17 columns):\n",
      " #   Column               Non-Null Count  Dtype  \n",
      "---  ------               --------------  -----  \n",
      " 0   zip_code             26147 non-null  int64  \n",
      " 1   commune              26147 non-null  object \n",
      " 2   province             26147 non-null  object \n",
      " 3   type_of_property     26147 non-null  int64  \n",
      " 4   subtype_of_property  26147 non-null  object \n",
      " 5   price                26111 non-null  float64\n",
      " 6   building_condition   19457 non-null  object \n",
      " 7   facade_number        16785 non-null  float64\n",
      " 8   living_area          26147 non-null  int64  \n",
      " 9   equipped_kitchen     26147 non-null  object \n",
      " 10  bedroom_nr           26147 non-null  int64  \n",
      " 11  swimming_pool        26147 non-null  int64  \n",
      " 12  furnished            26147 non-null  int64  \n",
      " 13  open_fire            26147 non-null  int64  \n",
      " 14  terrace              26147 non-null  int64  \n",
      " 15  garden               26147 non-null  int64  \n",
      " 16  plot_surface         26147 non-null  int64  \n",
      "dtypes: float64(2), int64(10), object(5)\n",
      "memory usage: 3.4+ MB\n"
     ]
    }
   ],
   "source": [
    "df.info()"
   ]
  },
  {
   "cell_type": "code",
   "execution_count": 5,
   "metadata": {},
   "outputs": [
    {
     "data": {
      "text/plain": [
       "zip_code\n",
       "8300    918\n",
       "1000    626\n",
       "1070    564\n",
       "9000    564\n",
       "1180    548\n",
       "       ... \n",
       "7024      1\n",
       "7033      1\n",
       "7034      1\n",
       "4287      1\n",
       "9970      1\n",
       "Name: count, Length: 875, dtype: int64"
      ]
     },
     "execution_count": 5,
     "metadata": {},
     "output_type": "execute_result"
    }
   ],
   "source": [
    "df.value_counts(\"zip_code\")"
   ]
  },
  {
   "cell_type": "code",
   "execution_count": 6,
   "metadata": {},
   "outputs": [
    {
     "data": {
      "text/plain": [
       "commune\n",
       "Westkapelle     918\n",
       "Antwerpen       692\n",
       "Bruxelles       626\n",
       "Gent            564\n",
       "Anderlecht      564\n",
       "               ... \n",
       "Bilstain          1\n",
       "Binkom            1\n",
       "Basse-Bodeux      1\n",
       "Baulers           1\n",
       "Zillebeke         1\n",
       "Name: count, Length: 849, dtype: int64"
      ]
     },
     "execution_count": 6,
     "metadata": {},
     "output_type": "execute_result"
    }
   ],
   "source": [
    "df.value_counts(\"commune\")"
   ]
  },
  {
   "cell_type": "code",
   "execution_count": 7,
   "metadata": {},
   "outputs": [
    {
     "data": {
      "text/plain": [
       "province\n",
       "Bruxelles          5127\n",
       "West-Vlaanderen    4964\n",
       "Oost-Vlaanderen    4364\n",
       "Antwerpen          3194\n",
       "Hainaut            2157\n",
       "Liège              2147\n",
       "Vlaams Brabant     1796\n",
       "Brabant Wallon      980\n",
       "Luxembourg          938\n",
       "Limburg             480\n",
       "Name: count, dtype: int64"
      ]
     },
     "execution_count": 7,
     "metadata": {},
     "output_type": "execute_result"
    }
   ],
   "source": [
    "df.value_counts(\"province\")"
   ]
  },
  {
   "cell_type": "code",
   "execution_count": 8,
   "metadata": {},
   "outputs": [
    {
     "data": {
      "text/plain": [
       "garden\n",
       "0        20949\n",
       "100        138\n",
       "1          111\n",
       "200        101\n",
       "50          99\n",
       "         ...  \n",
       "634          1\n",
       "11500        1\n",
       "6900         1\n",
       "6996         1\n",
       "7600         1\n",
       "Name: count, Length: 948, dtype: int64"
      ]
     },
     "execution_count": 8,
     "metadata": {},
     "output_type": "execute_result"
    }
   ],
   "source": [
    "df.value_counts(\"garden\")"
   ]
  },
  {
   "cell_type": "code",
   "execution_count": 9,
   "metadata": {},
   "outputs": [
    {
     "data": {
      "text/plain": [
       "bedroom_nr\n",
       "2     9304\n",
       "3     7974\n",
       "1     3251\n",
       "4     2973\n",
       "5     1025\n",
       "0      890\n",
       "6      427\n",
       "7      143\n",
       "8       76\n",
       "9       26\n",
       "10      18\n",
       "16       9\n",
       "12       8\n",
       "13       8\n",
       "11       6\n",
       "20       3\n",
       "24       2\n",
       "15       1\n",
       "14       1\n",
       "18       1\n",
       "25       1\n",
       "Name: count, dtype: int64"
      ]
     },
     "execution_count": 9,
     "metadata": {},
     "output_type": "execute_result"
    }
   ],
   "source": [
    "df.value_counts(\"bedroom_nr\")"
   ]
  },
  {
   "cell_type": "code",
   "execution_count": 10,
   "metadata": {},
   "outputs": [
    {
     "data": {
      "text/plain": [
       "building_condition\n",
       "good              8229\n",
       "as new            7061\n",
       "to renovate       1577\n",
       "to be done up     1376\n",
       "just renovated    1148\n",
       "to restore          66\n",
       "Name: count, dtype: int64"
      ]
     },
     "execution_count": 10,
     "metadata": {},
     "output_type": "execute_result"
    }
   ],
   "source": [
    "df.value_counts(\"building_condition\")"
   ]
  },
  {
   "cell_type": "code",
   "execution_count": 11,
   "metadata": {},
   "outputs": [
    {
     "data": {
      "text/plain": [
       "plot_surface\n",
       "0        16290\n",
       "200         74\n",
       "120         66\n",
       "150         58\n",
       "250         56\n",
       "         ...  \n",
       "23159        1\n",
       "23290        1\n",
       "23503        1\n",
       "23912        1\n",
       "24091        1\n",
       "Name: count, Length: 2192, dtype: int64"
      ]
     },
     "execution_count": 11,
     "metadata": {},
     "output_type": "execute_result"
    }
   ],
   "source": [
    "df.value_counts(\"plot_surface\")"
   ]
  },
  {
   "cell_type": "code",
   "execution_count": 12,
   "metadata": {},
   "outputs": [
    {
     "data": {
      "text/html": [
       "<div>\n",
       "<style scoped>\n",
       "    .dataframe tbody tr th:only-of-type {\n",
       "        vertical-align: middle;\n",
       "    }\n",
       "\n",
       "    .dataframe tbody tr th {\n",
       "        vertical-align: top;\n",
       "    }\n",
       "\n",
       "    .dataframe thead th {\n",
       "        text-align: right;\n",
       "    }\n",
       "</style>\n",
       "<table border=\"1\" class=\"dataframe\">\n",
       "  <thead>\n",
       "    <tr style=\"text-align: right;\">\n",
       "      <th></th>\n",
       "      <th>zip_code</th>\n",
       "      <th>type_of_property</th>\n",
       "      <th>price</th>\n",
       "      <th>facade_number</th>\n",
       "      <th>living_area</th>\n",
       "      <th>bedroom_nr</th>\n",
       "      <th>swimming_pool</th>\n",
       "      <th>furnished</th>\n",
       "      <th>open_fire</th>\n",
       "      <th>terrace</th>\n",
       "      <th>garden</th>\n",
       "      <th>plot_surface</th>\n",
       "    </tr>\n",
       "  </thead>\n",
       "  <tbody>\n",
       "    <tr>\n",
       "      <th>count</th>\n",
       "      <td>26147.000000</td>\n",
       "      <td>26147.000000</td>\n",
       "      <td>2.611100e+04</td>\n",
       "      <td>16785.000000</td>\n",
       "      <td>26147.000000</td>\n",
       "      <td>26147.000000</td>\n",
       "      <td>26147.000000</td>\n",
       "      <td>26147.000000</td>\n",
       "      <td>26147.000000</td>\n",
       "      <td>26147.000000</td>\n",
       "      <td>26147.000000</td>\n",
       "      <td>26147.000000</td>\n",
       "    </tr>\n",
       "    <tr>\n",
       "      <th>mean</th>\n",
       "      <td>5085.507821</td>\n",
       "      <td>0.394080</td>\n",
       "      <td>4.594943e+05</td>\n",
       "      <td>2.720167</td>\n",
       "      <td>143.557425</td>\n",
       "      <td>2.599648</td>\n",
       "      <td>0.019429</td>\n",
       "      <td>0.032088</td>\n",
       "      <td>0.007458</td>\n",
       "      <td>12.193942</td>\n",
       "      <td>102.666692</td>\n",
       "      <td>407.083681</td>\n",
       "    </tr>\n",
       "    <tr>\n",
       "      <th>std</th>\n",
       "      <td>3283.479987</td>\n",
       "      <td>0.488661</td>\n",
       "      <td>4.355173e+05</td>\n",
       "      <td>0.847971</td>\n",
       "      <td>97.351713</td>\n",
       "      <td>1.370721</td>\n",
       "      <td>0.138029</td>\n",
       "      <td>0.176237</td>\n",
       "      <td>0.086038</td>\n",
       "      <td>43.316550</td>\n",
       "      <td>676.906691</td>\n",
       "      <td>2650.878092</td>\n",
       "    </tr>\n",
       "    <tr>\n",
       "      <th>min</th>\n",
       "      <td>1000.000000</td>\n",
       "      <td>0.000000</td>\n",
       "      <td>2.750000e+04</td>\n",
       "      <td>1.000000</td>\n",
       "      <td>0.000000</td>\n",
       "      <td>0.000000</td>\n",
       "      <td>0.000000</td>\n",
       "      <td>0.000000</td>\n",
       "      <td>0.000000</td>\n",
       "      <td>0.000000</td>\n",
       "      <td>0.000000</td>\n",
       "      <td>0.000000</td>\n",
       "    </tr>\n",
       "    <tr>\n",
       "      <th>25%</th>\n",
       "      <td>1743.500000</td>\n",
       "      <td>0.000000</td>\n",
       "      <td>2.650000e+05</td>\n",
       "      <td>2.000000</td>\n",
       "      <td>88.000000</td>\n",
       "      <td>2.000000</td>\n",
       "      <td>0.000000</td>\n",
       "      <td>0.000000</td>\n",
       "      <td>0.000000</td>\n",
       "      <td>0.000000</td>\n",
       "      <td>0.000000</td>\n",
       "      <td>0.000000</td>\n",
       "    </tr>\n",
       "    <tr>\n",
       "      <th>50%</th>\n",
       "      <td>4480.000000</td>\n",
       "      <td>0.000000</td>\n",
       "      <td>3.500000e+05</td>\n",
       "      <td>2.000000</td>\n",
       "      <td>116.000000</td>\n",
       "      <td>2.000000</td>\n",
       "      <td>0.000000</td>\n",
       "      <td>0.000000</td>\n",
       "      <td>0.000000</td>\n",
       "      <td>4.000000</td>\n",
       "      <td>0.000000</td>\n",
       "      <td>0.000000</td>\n",
       "    </tr>\n",
       "    <tr>\n",
       "      <th>75%</th>\n",
       "      <td>8460.000000</td>\n",
       "      <td>1.000000</td>\n",
       "      <td>4.921000e+05</td>\n",
       "      <td>3.000000</td>\n",
       "      <td>170.000000</td>\n",
       "      <td>3.000000</td>\n",
       "      <td>0.000000</td>\n",
       "      <td>0.000000</td>\n",
       "      <td>0.000000</td>\n",
       "      <td>15.000000</td>\n",
       "      <td>0.000000</td>\n",
       "      <td>255.000000</td>\n",
       "    </tr>\n",
       "    <tr>\n",
       "      <th>max</th>\n",
       "      <td>9992.000000</td>\n",
       "      <td>1.000000</td>\n",
       "      <td>8.900000e+06</td>\n",
       "      <td>15.000000</td>\n",
       "      <td>992.000000</td>\n",
       "      <td>25.000000</td>\n",
       "      <td>1.000000</td>\n",
       "      <td>1.000000</td>\n",
       "      <td>1.000000</td>\n",
       "      <td>3749.000000</td>\n",
       "      <td>50000.000000</td>\n",
       "      <td>160737.000000</td>\n",
       "    </tr>\n",
       "  </tbody>\n",
       "</table>\n",
       "</div>"
      ],
      "text/plain": [
       "           zip_code  type_of_property         price  facade_number  \\\n",
       "count  26147.000000      26147.000000  2.611100e+04   16785.000000   \n",
       "mean    5085.507821          0.394080  4.594943e+05       2.720167   \n",
       "std     3283.479987          0.488661  4.355173e+05       0.847971   \n",
       "min     1000.000000          0.000000  2.750000e+04       1.000000   \n",
       "25%     1743.500000          0.000000  2.650000e+05       2.000000   \n",
       "50%     4480.000000          0.000000  3.500000e+05       2.000000   \n",
       "75%     8460.000000          1.000000  4.921000e+05       3.000000   \n",
       "max     9992.000000          1.000000  8.900000e+06      15.000000   \n",
       "\n",
       "        living_area    bedroom_nr  swimming_pool     furnished     open_fire  \\\n",
       "count  26147.000000  26147.000000   26147.000000  26147.000000  26147.000000   \n",
       "mean     143.557425      2.599648       0.019429      0.032088      0.007458   \n",
       "std       97.351713      1.370721       0.138029      0.176237      0.086038   \n",
       "min        0.000000      0.000000       0.000000      0.000000      0.000000   \n",
       "25%       88.000000      2.000000       0.000000      0.000000      0.000000   \n",
       "50%      116.000000      2.000000       0.000000      0.000000      0.000000   \n",
       "75%      170.000000      3.000000       0.000000      0.000000      0.000000   \n",
       "max      992.000000     25.000000       1.000000      1.000000      1.000000   \n",
       "\n",
       "            terrace        garden   plot_surface  \n",
       "count  26147.000000  26147.000000   26147.000000  \n",
       "mean      12.193942    102.666692     407.083681  \n",
       "std       43.316550    676.906691    2650.878092  \n",
       "min        0.000000      0.000000       0.000000  \n",
       "25%        0.000000      0.000000       0.000000  \n",
       "50%        4.000000      0.000000       0.000000  \n",
       "75%       15.000000      0.000000     255.000000  \n",
       "max     3749.000000  50000.000000  160737.000000  "
      ]
     },
     "execution_count": 12,
     "metadata": {},
     "output_type": "execute_result"
    }
   ],
   "source": [
    "df.describe()"
   ]
  },
  {
   "cell_type": "markdown",
   "metadata": {},
   "source": [
    "## Data Cleaning"
   ]
  },
  {
   "cell_type": "markdown",
   "metadata": {},
   "source": [
    "### Notes on missing values and zero values:\n",
    "\n",
    "**Missing Values:**\n",
    "\n",
    "* \"price\" column: 36 entries missing                **-> Drop (Alek) DONE**\n",
    "* \"building_condition\": 6690 entries missing        **-> Encode as \"Unknown\" -> Alek -> DONE**\n",
    "* \"facade_number\": 9362 entries missing             **-> Use median based on subtype of property! -> Me -> DONE**\n",
    "\n",
    "**Zero Values:**\n",
    "\n",
    "* \"living_area\": 5 entries with 0                   **-> Drop -> Me -> DONE**\n",
    "* \"equipped_kitchen\":                               **-> 0 means no equipped kitchen   -> OK**\n",
    "* \"bedroom_nr\": 890 entries with 0                  **-> Either studio apartments or mixed use buildings etc.  --> OK**\n",
    "* \"garden\": 20949 entries with 0                    **-> apr. 20% of df have a garden -> matches filter result in immoweb** \n",
    "                                                    **-> in our dataset apr. 50%, but we had 60% houses, here 39% houses**\n",
    "* \"plot_surface\": 16290 entries with 0              **-> Definition: based on entry in immoweb -> OK** \n",
    "\n",
    "\n",
    "**Other:**\n",
    "* \"terrace\":                               **>0 means no terrace, and number = surface?  -> OK**\n",
    "* \"garden\":                                **>same as terrace? -> OK**\n",
    "* \"subtype_of_property\"                    **> remove 'unit' -> Celina -> DONE**\n",
    "* \"building_condition\"                     **> Reduce number of categories -> Alek -> DONE**\n",
    "* \"equipped_kitchen\"                       **> reduce number of categories -> Alek -> DONE**"
   ]
  },
  {
   "cell_type": "code",
   "execution_count": 13,
   "metadata": {},
   "outputs": [
    {
     "data": {
      "text/plain": [
       "zip_code                  0\n",
       "commune                   0\n",
       "province                  0\n",
       "type_of_property          0\n",
       "subtype_of_property       0\n",
       "price                    36\n",
       "building_condition     6690\n",
       "facade_number          9362\n",
       "living_area               0\n",
       "equipped_kitchen          0\n",
       "bedroom_nr                0\n",
       "swimming_pool             0\n",
       "furnished                 0\n",
       "open_fire                 0\n",
       "terrace                   0\n",
       "garden                    0\n",
       "plot_surface              0\n",
       "dtype: int64"
      ]
     },
     "execution_count": 13,
     "metadata": {},
     "output_type": "execute_result"
    }
   ],
   "source": [
    "# See summary of missing values\n",
    "df.isna().sum()"
   ]
  },
  {
   "cell_type": "markdown",
   "metadata": {},
   "source": [
    "### Calculate missing value threshold and drop entries below or equal to"
   ]
  },
  {
   "cell_type": "code",
   "execution_count": 14,
   "metadata": {},
   "outputs": [
    {
     "name": "stdout",
     "output_type": "stream",
     "text": [
      "26147\n",
      "1307\n",
      "Index(['price'], dtype='object')\n"
     ]
    }
   ],
   "source": [
    "# Calculate missing value threshold\n",
    "threshold = len(df) * 0.05\n",
    "print(len(df))\n",
    "print(int(threshold))\n",
    "\n",
    "# Use Boolean indexing to filter for columns with missing values <= threshold and > 0\n",
    "cols_to_drop = df.columns[(df.isna().sum() <= threshold) & (df.isna().sum() > 0)]\n",
    "\n",
    "print(cols_to_drop)\n",
    "\n",
    "# To drop missing values\n",
    "df.dropna(subset=cols_to_drop, inplace=True)"
   ]
  },
  {
   "cell_type": "markdown",
   "metadata": {},
   "source": [
    "### Drop zero values in \"living_area\"\n"
   ]
  },
  {
   "cell_type": "code",
   "execution_count": 15,
   "metadata": {},
   "outputs": [],
   "source": [
    "# Drop rows where 'living_area' is 0\n",
    "df = df[df[\"living_area\"] != 0]"
   ]
  },
  {
   "cell_type": "markdown",
   "metadata": {},
   "source": [
    "### Handling missing values in \"building_condition\"\n",
    "\n",
    "Options:\n",
    "\n",
    "* Fill with most frequent category (mode) --> No\n",
    "\n",
    "* Fill with a placeholder (e.g. \"Unknown\") --> OK"
   ]
  },
  {
   "cell_type": "markdown",
   "metadata": {},
   "source": [
    "#### Fill zero values in \"building_condition\" with \"Unknown\""
   ]
  },
  {
   "cell_type": "markdown",
   "metadata": {},
   "source": [
    "### Replace missing values in \"facade_number\" with median based on subtype of property"
   ]
  },
  {
   "cell_type": "code",
   "execution_count": 16,
   "metadata": {},
   "outputs": [],
   "source": [
    "# Compute median facade number by subtype\n",
    "facade_dict = df.groupby(\"subtype_of_property\")[\"facade_number\"].median().to_dict()\n",
    "\n",
    "# Impute values\n",
    "df[\"facade_number\"] = df[\"facade_number\"].fillna(df[\"subtype_of_property\"].map(facade_dict))"
   ]
  },
  {
   "cell_type": "code",
   "execution_count": 17,
   "metadata": {},
   "outputs": [
    {
     "data": {
      "text/plain": [
       "zip_code                  0\n",
       "commune                   0\n",
       "province                  0\n",
       "type_of_property          0\n",
       "subtype_of_property       0\n",
       "price                     0\n",
       "building_condition     6683\n",
       "facade_number             0\n",
       "living_area               0\n",
       "equipped_kitchen          0\n",
       "bedroom_nr                0\n",
       "swimming_pool             0\n",
       "furnished                 0\n",
       "open_fire                 0\n",
       "terrace                   0\n",
       "garden                    0\n",
       "plot_surface              0\n",
       "dtype: int64"
      ]
     },
     "execution_count": 17,
     "metadata": {},
     "output_type": "execute_result"
    }
   ],
   "source": [
    "df.isna().sum()"
   ]
  },
  {
   "cell_type": "markdown",
   "metadata": {},
   "source": [
    "## Check for duplicates"
   ]
  },
  {
   "cell_type": "code",
   "execution_count": 18,
   "metadata": {},
   "outputs": [
    {
     "data": {
      "text/plain": [
       "np.int64(1315)"
      ]
     },
     "execution_count": 18,
     "metadata": {},
     "output_type": "execute_result"
    }
   ],
   "source": [
    "# Check for duplicates and count them\n",
    "num_duplicates = df.duplicated().sum()\n",
    "num_duplicates"
   ]
  },
  {
   "cell_type": "code",
   "execution_count": 19,
   "metadata": {},
   "outputs": [],
   "source": [
    "# Remove duplicate rows and create cleaned df\n",
    "#df_unique = df.drop_duplicates()"
   ]
  },
  {
   "cell_type": "markdown",
   "metadata": {},
   "source": [
    "### Notes on duplicates:\n",
    "\n",
    "* 1284 duplicates found --> while scraping duplicates were eliminated, so the 1284 entries are in fact no duplicates"
   ]
  },
  {
   "cell_type": "markdown",
   "metadata": {},
   "source": [
    "## Check for blank spaces"
   ]
  },
  {
   "cell_type": "code",
   "execution_count": 20,
   "metadata": {},
   "outputs": [
    {
     "data": {
      "text/plain": [
       "[]"
      ]
     },
     "execution_count": 20,
     "metadata": {},
     "output_type": "execute_result"
    }
   ],
   "source": [
    "# Check for leading/trailing spaces in string columns\n",
    "\n",
    "columns_with_spaces = [col for col in df.columns if df[col].dtype == 'object' and df[col].str.contains(r'^\\s+|\\s+$').any()]\n",
    "columns_with_spaces"
   ]
  },
  {
   "cell_type": "code",
   "execution_count": 21,
   "metadata": {},
   "outputs": [
    {
     "data": {
      "text/plain": [
       "[]"
      ]
     },
     "execution_count": 21,
     "metadata": {},
     "output_type": "execute_result"
    }
   ],
   "source": [
    "# Check for multiple spaces within a string\n",
    "columns_with_spaces = [col for col in df.columns if df[col].dtype == 'object' and df[col].str.contains(r'  ').any()]\n",
    "columns_with_spaces"
   ]
  },
  {
   "cell_type": "markdown",
   "metadata": {},
   "source": [
    "#### Result: no leading or trailing whitespace and no double whitespace"
   ]
  },
  {
   "cell_type": "markdown",
   "metadata": {},
   "source": [
    "## Data Cleaning: Must-have features\n",
    "\n",
    "* No duplicates            -> OK\n",
    "* No blank spaces          -> OK\n",
    "* No empty values          -> OK\n",
    "* No errors                -> I guess\n",
    "\n",
    "Notes:\n",
    "* Duplicates: In the scraping code the listing id was checked to avoid duplicates; the entries in the df that appear as duplicates are new buildings that appear identical, but are in fact distinct listings"
   ]
  },
  {
   "cell_type": "markdown",
   "metadata": {},
   "source": [
    "## Step 2: Data Analysis"
   ]
  },
  {
   "cell_type": "markdown",
   "metadata": {},
   "source": [
    "Answer the following questions with a visualization if appropriate:\n",
    "\n",
    "* How many rows and columns?\n",
    "  26,106 rows and 17 columns\n",
    "  \n",
    "* What is the correlation between the variables and the price? (Why might that be?)\n",
    "  \n",
    "* How are variables correlated to each other? (Why?)\n",
    "  \n",
    "* Which variables have the greatest influence on the price? \n",
    "  \n",
    "* Which variables have the least influence on the price? \n",
    "  \n",
    "* How many qualitative and quantitative variables are there? 12 quantitative and 5 qualitative (commune, province, subtype of property, building_condition, equipped_kitchen)\n",
    "  \n",
    "* How would you transform these values into numerical values?\n",
    "  * commune                     -> ?\n",
    "  * province                    -> ?\n",
    "  * subtype of property         -> label encoding (ordinal)\n",
    "  * building_condition          -> label encoding (ordinal)\n",
    "  * equipped_kitchen           -> binary to 1 or 0 \n",
    "  \n",
    "* Percentage of missing values per column?  0 ?"
   ]
  },
  {
   "cell_type": "code",
   "execution_count": 22,
   "metadata": {},
   "outputs": [],
   "source": [
    "# Import cleaned dataset\n",
    "dfc = pd.read_csv(\"../cleaned-data.csv\")"
   ]
  },
  {
   "cell_type": "code",
   "execution_count": 23,
   "metadata": {},
   "outputs": [
    {
     "data": {
      "text/plain": [
       "(26106, 17)"
      ]
     },
     "execution_count": 23,
     "metadata": {},
     "output_type": "execute_result"
    }
   ],
   "source": [
    "dfc.shape"
   ]
  },
  {
   "cell_type": "code",
   "execution_count": 24,
   "metadata": {},
   "outputs": [
    {
     "name": "stdout",
     "output_type": "stream",
     "text": [
      "Quantitative variables: 12\n",
      "Qualitative variables: 5\n",
      "Qualitative variables: Index(['commune', 'province', 'subtype_of_property', 'building_condition',\n",
      "       'equipped_kitchen'],\n",
      "      dtype='object')\n"
     ]
    }
   ],
   "source": [
    "# Count quantitative (numerical) variables\n",
    "quantitative_vars = df.select_dtypes(include=['int64', 'float64']).columns\n",
    "num_quantitative = len(quantitative_vars)\n",
    "\n",
    "# Count qualitative (categorical) variables\n",
    "qualitative_vars = df.select_dtypes(include=['object', 'category']).columns\n",
    "num_qualitative = len(qualitative_vars)\n",
    "\n",
    "print(f\"Quantitative variables: {num_quantitative}\")\n",
    "print(f\"Qualitative variables: {num_qualitative}\")\n",
    "\n",
    "print(f\"Qualitative variables: {qualitative_vars}\")"
   ]
  },
  {
   "cell_type": "code",
   "execution_count": 25,
   "metadata": {},
   "outputs": [
    {
     "data": {
      "text/html": [
       "<div>\n",
       "<style scoped>\n",
       "    .dataframe tbody tr th:only-of-type {\n",
       "        vertical-align: middle;\n",
       "    }\n",
       "\n",
       "    .dataframe tbody tr th {\n",
       "        vertical-align: top;\n",
       "    }\n",
       "\n",
       "    .dataframe thead th {\n",
       "        text-align: right;\n",
       "    }\n",
       "</style>\n",
       "<table border=\"1\" class=\"dataframe\">\n",
       "  <thead>\n",
       "    <tr style=\"text-align: right;\">\n",
       "      <th></th>\n",
       "      <th>zip_code</th>\n",
       "      <th>commune</th>\n",
       "      <th>province</th>\n",
       "      <th>type_of_property</th>\n",
       "      <th>subtype_of_property</th>\n",
       "      <th>price</th>\n",
       "      <th>building_condition</th>\n",
       "      <th>facade_number</th>\n",
       "      <th>living_area</th>\n",
       "      <th>equipped_kitchen</th>\n",
       "      <th>bedroom_nr</th>\n",
       "      <th>swimming_pool</th>\n",
       "      <th>furnished</th>\n",
       "      <th>open_fire</th>\n",
       "      <th>terrace</th>\n",
       "      <th>garden</th>\n",
       "      <th>plot_surface</th>\n",
       "    </tr>\n",
       "  </thead>\n",
       "  <tbody>\n",
       "    <tr>\n",
       "      <th>0</th>\n",
       "      <td>[2600, 2100, 2660, 1180, 2018, 1050, 2160, 285...</td>\n",
       "      <td>[Berchem, Deurne, Hoboken, Uccle, Antwerpen, I...</td>\n",
       "      <td>[Antwerpen, Bruxelles, West-Vlaanderen, Oost-V...</td>\n",
       "      <td>[0, 1]</td>\n",
       "      <td>[apartment, penthouse, flat studio, ground flo...</td>\n",
       "      <td>[149000.0, 248000.0, 229000.0, 470000.0, 48000...</td>\n",
       "      <td>[good, to renovate, no info, to restore]</td>\n",
       "      <td>[2.0, 3.0, 4.0, 1.0, 5.0, 15.0, 6.0]</td>\n",
       "      <td>[48, 91, 100, 179, 116, 150, 99, 125, 90, 110,...</td>\n",
       "      <td>[installed, not installed, equipped]</td>\n",
       "      <td>[1, 3, 2, 4, 0, 8, 5, 6, 7, 16, 10, 13, 9, 12,...</td>\n",
       "      <td>[0, 1]</td>\n",
       "      <td>[0, 1]</td>\n",
       "      <td>[0, 1]</td>\n",
       "      <td>[9, 2, 26, 10, 7, 1, 4, 13, 14, 8, 25, 19, 12,...</td>\n",
       "      <td>[0, 18, 29, 70, 100, 5, 90, 33, 300, 35, 280, ...</td>\n",
       "      <td>[0, 1481, 606, 185, 268, 604, 94, 553, 136, 66...</td>\n",
       "    </tr>\n",
       "  </tbody>\n",
       "</table>\n",
       "</div>"
      ],
      "text/plain": [
       "                                            zip_code  \\\n",
       "0  [2600, 2100, 2660, 1180, 2018, 1050, 2160, 285...   \n",
       "\n",
       "                                             commune  \\\n",
       "0  [Berchem, Deurne, Hoboken, Uccle, Antwerpen, I...   \n",
       "\n",
       "                                            province type_of_property  \\\n",
       "0  [Antwerpen, Bruxelles, West-Vlaanderen, Oost-V...           [0, 1]   \n",
       "\n",
       "                                 subtype_of_property  \\\n",
       "0  [apartment, penthouse, flat studio, ground flo...   \n",
       "\n",
       "                                               price  \\\n",
       "0  [149000.0, 248000.0, 229000.0, 470000.0, 48000...   \n",
       "\n",
       "                         building_condition  \\\n",
       "0  [good, to renovate, no info, to restore]   \n",
       "\n",
       "                          facade_number  \\\n",
       "0  [2.0, 3.0, 4.0, 1.0, 5.0, 15.0, 6.0]   \n",
       "\n",
       "                                         living_area  \\\n",
       "0  [48, 91, 100, 179, 116, 150, 99, 125, 90, 110,...   \n",
       "\n",
       "                       equipped_kitchen  \\\n",
       "0  [installed, not installed, equipped]   \n",
       "\n",
       "                                          bedroom_nr swimming_pool furnished  \\\n",
       "0  [1, 3, 2, 4, 0, 8, 5, 6, 7, 16, 10, 13, 9, 12,...        [0, 1]    [0, 1]   \n",
       "\n",
       "  open_fire                                            terrace  \\\n",
       "0    [0, 1]  [9, 2, 26, 10, 7, 1, 4, 13, 14, 8, 25, 19, 12,...   \n",
       "\n",
       "                                              garden  \\\n",
       "0  [0, 18, 29, 70, 100, 5, 90, 33, 300, 35, 280, ...   \n",
       "\n",
       "                                        plot_surface  \n",
       "0  [0, 1481, 606, 185, 268, 604, 94, 553, 136, 66...  "
      ]
     },
     "execution_count": 25,
     "metadata": {},
     "output_type": "execute_result"
    }
   ],
   "source": [
    "# Extract unique values for each column\n",
    "unique_values = pd.DataFrame({col: [dfc[col].unique()] for col in df.columns})\n",
    "\n",
    "unique_values"
   ]
  },
  {
   "cell_type": "markdown",
   "metadata": {},
   "source": [
    "## Label encoding by manual mapping (transforming categorical in numerical data)"
   ]
  },
  {
   "cell_type": "markdown",
   "metadata": {},
   "source": [
    "#### Province"
   ]
  },
  {
   "cell_type": "code",
   "execution_count": 26,
   "metadata": {},
   "outputs": [],
   "source": [
    "# Define a mapping dictionary\n",
    "province_mapping = {\n",
    "    'Antwerpen': 1,\n",
    "    'Bruxelles': 2,\n",
    "    'West-Vlaanderen': 3,\n",
    "    'Oost-Vlaanderen': 4,\n",
    "    'Limburg': 5,\n",
    "    'Liège': 6,\n",
    "    'Vlaams Brabant': 7,\n",
    "    'Brabant Wallon': 8,\n",
    "    'Hainaut': 9,\n",
    "    'Luxembourg': 10\n",
    "}\n",
    "\n",
    "# Apply the mapping\n",
    "dfc['province_encoded'] = dfc['province'].map(province_mapping)"
   ]
  },
  {
   "cell_type": "markdown",
   "metadata": {},
   "source": [
    "#### Subtype of Property\n",
    "\n",
    "Grouping Similar Subtypes into Categories\n",
    "\n",
    "Example Grouping:\n",
    "* 1 (Luxury Properties): 'mansion', 'castle', 'exceptional property'\n",
    "* 2 (Houses): 'house', 'villa', 'bungalow', 'town house', 'manor house'\n",
    "* 3 (Apartments): 'apartment', 'flat studio', 'penthouse', 'ground floor', 'loft'\n",
    "* 4 (Mixed Use): 'mixed use building', 'service flat'\n",
    "* 5 (Other): 'kot', 'triplex', 'country cottage', 'farmhouse', 'chalet', 'other property'"
   ]
  },
  {
   "cell_type": "code",
   "execution_count": 33,
   "metadata": {},
   "outputs": [
    {
     "data": {
      "text/html": [
       "<div>\n",
       "<style scoped>\n",
       "    .dataframe tbody tr th:only-of-type {\n",
       "        vertical-align: middle;\n",
       "    }\n",
       "\n",
       "    .dataframe tbody tr th {\n",
       "        vertical-align: top;\n",
       "    }\n",
       "\n",
       "    .dataframe thead th {\n",
       "        text-align: right;\n",
       "    }\n",
       "</style>\n",
       "<table border=\"1\" class=\"dataframe\">\n",
       "  <thead>\n",
       "    <tr style=\"text-align: right;\">\n",
       "      <th></th>\n",
       "      <th>subtype_of_property</th>\n",
       "      <th>sub_property_group_encoded</th>\n",
       "    </tr>\n",
       "  </thead>\n",
       "  <tbody>\n",
       "    <tr>\n",
       "      <th>0</th>\n",
       "      <td>apartment</td>\n",
       "      <td>3</td>\n",
       "    </tr>\n",
       "    <tr>\n",
       "      <th>1</th>\n",
       "      <td>apartment</td>\n",
       "      <td>3</td>\n",
       "    </tr>\n",
       "    <tr>\n",
       "      <th>2</th>\n",
       "      <td>apartment</td>\n",
       "      <td>3</td>\n",
       "    </tr>\n",
       "    <tr>\n",
       "      <th>3</th>\n",
       "      <td>apartment</td>\n",
       "      <td>3</td>\n",
       "    </tr>\n",
       "    <tr>\n",
       "      <th>4</th>\n",
       "      <td>apartment</td>\n",
       "      <td>3</td>\n",
       "    </tr>\n",
       "    <tr>\n",
       "      <th>...</th>\n",
       "      <td>...</td>\n",
       "      <td>...</td>\n",
       "    </tr>\n",
       "    <tr>\n",
       "      <th>26101</th>\n",
       "      <td>house</td>\n",
       "      <td>2</td>\n",
       "    </tr>\n",
       "    <tr>\n",
       "      <th>26102</th>\n",
       "      <td>house</td>\n",
       "      <td>2</td>\n",
       "    </tr>\n",
       "    <tr>\n",
       "      <th>26103</th>\n",
       "      <td>house</td>\n",
       "      <td>2</td>\n",
       "    </tr>\n",
       "    <tr>\n",
       "      <th>26104</th>\n",
       "      <td>house</td>\n",
       "      <td>2</td>\n",
       "    </tr>\n",
       "    <tr>\n",
       "      <th>26105</th>\n",
       "      <td>house</td>\n",
       "      <td>2</td>\n",
       "    </tr>\n",
       "  </tbody>\n",
       "</table>\n",
       "<p>26106 rows × 2 columns</p>\n",
       "</div>"
      ],
      "text/plain": [
       "      subtype_of_property  sub_property_group_encoded\n",
       "0               apartment                           3\n",
       "1               apartment                           3\n",
       "2               apartment                           3\n",
       "3               apartment                           3\n",
       "4               apartment                           3\n",
       "...                   ...                         ...\n",
       "26101               house                           2\n",
       "26102               house                           2\n",
       "26103               house                           2\n",
       "26104               house                           2\n",
       "26105               house                           2\n",
       "\n",
       "[26106 rows x 2 columns]"
      ]
     },
     "execution_count": 33,
     "metadata": {},
     "output_type": "execute_result"
    }
   ],
   "source": [
    "# Define grouped mapping with assigned numbers\n",
    "property_group_mapping = {\n",
    "    'apartment': 3, 'flat studio': 3, 'penthouse': 3, 'ground floor': 3, 'loft': 3,\n",
    "    'house': 2, 'villa': 2, 'bungalow': 2, 'town house': 2, 'manor house': 2,\n",
    "    'mansion': 1, 'castle': 1, 'exceptional property': 1,\n",
    "    'mixed use building': 4, 'service flat': 4,\n",
    "    'kot': 5, 'triplex': 5, 'country cottage': 5, 'farmhouse': 5, 'chalet': 5, 'other property': 5\n",
    "}\n",
    "\n",
    "# Apply the grouped mapping to the column\n",
    "dfc['sub_property_group_encoded'] = dfc['subtype_of_property'].map(property_group_mapping)\n",
    "\n",
    "# Convert to integer\n",
    "dfc['sub_property_group_encoded'] = dfc['sub_property_group_encoded'].astype('Int64')\n",
    "\n",
    "# Display the result\n",
    "dfc[['subtype_of_property', 'sub_property_group_encoded']]"
   ]
  },
  {
   "cell_type": "markdown",
   "metadata": {},
   "source": [
    "#### Building condition"
   ]
  },
  {
   "cell_type": "code",
   "execution_count": 31,
   "metadata": {},
   "outputs": [],
   "source": [
    "# Define the mapping based on condition quality\n",
    "building_condition_mapping = {\n",
    "    'good': 1,\n",
    "    'to renovate': 2,\n",
    "    'to restore': 3,\n",
    "    'no info': 4  # Treat as a separate category\n",
    "}\n",
    "\n",
    "# Apply the mapping\n",
    "dfc['building_condition_encoded'] = dfc['building_condition'].map(building_condition_mapping)"
   ]
  },
  {
   "cell_type": "markdown",
   "metadata": {},
   "source": [
    "### Kitchen: binary"
   ]
  },
  {
   "cell_type": "code",
   "execution_count": 34,
   "metadata": {},
   "outputs": [
    {
     "data": {
      "text/html": [
       "<div>\n",
       "<style scoped>\n",
       "    .dataframe tbody tr th:only-of-type {\n",
       "        vertical-align: middle;\n",
       "    }\n",
       "\n",
       "    .dataframe tbody tr th {\n",
       "        vertical-align: top;\n",
       "    }\n",
       "\n",
       "    .dataframe thead th {\n",
       "        text-align: right;\n",
       "    }\n",
       "</style>\n",
       "<table border=\"1\" class=\"dataframe\">\n",
       "  <thead>\n",
       "    <tr style=\"text-align: right;\">\n",
       "      <th></th>\n",
       "      <th>zip_code</th>\n",
       "      <th>commune</th>\n",
       "      <th>province</th>\n",
       "      <th>type_of_property</th>\n",
       "      <th>subtype_of_property</th>\n",
       "      <th>price</th>\n",
       "      <th>building_condition</th>\n",
       "      <th>facade_number</th>\n",
       "      <th>living_area</th>\n",
       "      <th>equipped_kitchen</th>\n",
       "      <th>...</th>\n",
       "      <th>swimming_pool</th>\n",
       "      <th>furnished</th>\n",
       "      <th>open_fire</th>\n",
       "      <th>terrace</th>\n",
       "      <th>garden</th>\n",
       "      <th>plot_surface</th>\n",
       "      <th>province_encoded</th>\n",
       "      <th>sub_property_group_encoded</th>\n",
       "      <th>building_condition_encoded</th>\n",
       "      <th>equipped_kitchen_binary</th>\n",
       "    </tr>\n",
       "  </thead>\n",
       "  <tbody>\n",
       "    <tr>\n",
       "      <th>0</th>\n",
       "      <td>2600</td>\n",
       "      <td>Berchem</td>\n",
       "      <td>Antwerpen</td>\n",
       "      <td>0</td>\n",
       "      <td>apartment</td>\n",
       "      <td>149000.0</td>\n",
       "      <td>good</td>\n",
       "      <td>2.0</td>\n",
       "      <td>48</td>\n",
       "      <td>installed</td>\n",
       "      <td>...</td>\n",
       "      <td>0</td>\n",
       "      <td>0</td>\n",
       "      <td>0</td>\n",
       "      <td>9</td>\n",
       "      <td>0</td>\n",
       "      <td>0</td>\n",
       "      <td>1</td>\n",
       "      <td>3</td>\n",
       "      <td>1</td>\n",
       "      <td>0</td>\n",
       "    </tr>\n",
       "    <tr>\n",
       "      <th>1</th>\n",
       "      <td>2100</td>\n",
       "      <td>Deurne</td>\n",
       "      <td>Antwerpen</td>\n",
       "      <td>0</td>\n",
       "      <td>apartment</td>\n",
       "      <td>248000.0</td>\n",
       "      <td>good</td>\n",
       "      <td>2.0</td>\n",
       "      <td>91</td>\n",
       "      <td>installed</td>\n",
       "      <td>...</td>\n",
       "      <td>0</td>\n",
       "      <td>0</td>\n",
       "      <td>0</td>\n",
       "      <td>2</td>\n",
       "      <td>0</td>\n",
       "      <td>0</td>\n",
       "      <td>1</td>\n",
       "      <td>3</td>\n",
       "      <td>1</td>\n",
       "      <td>0</td>\n",
       "    </tr>\n",
       "    <tr>\n",
       "      <th>2</th>\n",
       "      <td>2660</td>\n",
       "      <td>Hoboken</td>\n",
       "      <td>Antwerpen</td>\n",
       "      <td>0</td>\n",
       "      <td>apartment</td>\n",
       "      <td>229000.0</td>\n",
       "      <td>good</td>\n",
       "      <td>2.0</td>\n",
       "      <td>100</td>\n",
       "      <td>not installed</td>\n",
       "      <td>...</td>\n",
       "      <td>0</td>\n",
       "      <td>0</td>\n",
       "      <td>0</td>\n",
       "      <td>26</td>\n",
       "      <td>0</td>\n",
       "      <td>0</td>\n",
       "      <td>1</td>\n",
       "      <td>3</td>\n",
       "      <td>1</td>\n",
       "      <td>0</td>\n",
       "    </tr>\n",
       "    <tr>\n",
       "      <th>3</th>\n",
       "      <td>1180</td>\n",
       "      <td>Uccle</td>\n",
       "      <td>Bruxelles</td>\n",
       "      <td>0</td>\n",
       "      <td>apartment</td>\n",
       "      <td>470000.0</td>\n",
       "      <td>good</td>\n",
       "      <td>2.0</td>\n",
       "      <td>179</td>\n",
       "      <td>equipped</td>\n",
       "      <td>...</td>\n",
       "      <td>0</td>\n",
       "      <td>0</td>\n",
       "      <td>0</td>\n",
       "      <td>10</td>\n",
       "      <td>0</td>\n",
       "      <td>0</td>\n",
       "      <td>2</td>\n",
       "      <td>3</td>\n",
       "      <td>1</td>\n",
       "      <td>1</td>\n",
       "    </tr>\n",
       "    <tr>\n",
       "      <th>4</th>\n",
       "      <td>2018</td>\n",
       "      <td>Antwerpen</td>\n",
       "      <td>Antwerpen</td>\n",
       "      <td>0</td>\n",
       "      <td>apartment</td>\n",
       "      <td>480000.0</td>\n",
       "      <td>good</td>\n",
       "      <td>2.0</td>\n",
       "      <td>116</td>\n",
       "      <td>installed</td>\n",
       "      <td>...</td>\n",
       "      <td>0</td>\n",
       "      <td>0</td>\n",
       "      <td>0</td>\n",
       "      <td>7</td>\n",
       "      <td>0</td>\n",
       "      <td>0</td>\n",
       "      <td>1</td>\n",
       "      <td>3</td>\n",
       "      <td>1</td>\n",
       "      <td>0</td>\n",
       "    </tr>\n",
       "  </tbody>\n",
       "</table>\n",
       "<p>5 rows × 21 columns</p>\n",
       "</div>"
      ],
      "text/plain": [
       "   zip_code    commune   province  type_of_property subtype_of_property  \\\n",
       "0      2600    Berchem  Antwerpen                 0           apartment   \n",
       "1      2100     Deurne  Antwerpen                 0           apartment   \n",
       "2      2660    Hoboken  Antwerpen                 0           apartment   \n",
       "3      1180      Uccle  Bruxelles                 0           apartment   \n",
       "4      2018  Antwerpen  Antwerpen                 0           apartment   \n",
       "\n",
       "      price building_condition  facade_number  living_area equipped_kitchen  \\\n",
       "0  149000.0               good            2.0           48        installed   \n",
       "1  248000.0               good            2.0           91        installed   \n",
       "2  229000.0               good            2.0          100    not installed   \n",
       "3  470000.0               good            2.0          179         equipped   \n",
       "4  480000.0               good            2.0          116        installed   \n",
       "\n",
       "   ...  swimming_pool  furnished  open_fire  terrace  garden  plot_surface  \\\n",
       "0  ...              0          0          0        9       0             0   \n",
       "1  ...              0          0          0        2       0             0   \n",
       "2  ...              0          0          0       26       0             0   \n",
       "3  ...              0          0          0       10       0             0   \n",
       "4  ...              0          0          0        7       0             0   \n",
       "\n",
       "   province_encoded  sub_property_group_encoded  building_condition_encoded  \\\n",
       "0                 1                           3                           1   \n",
       "1                 1                           3                           1   \n",
       "2                 1                           3                           1   \n",
       "3                 2                           3                           1   \n",
       "4                 1                           3                           1   \n",
       "\n",
       "   equipped_kitchen_binary  \n",
       "0                        0  \n",
       "1                        0  \n",
       "2                        0  \n",
       "3                        1  \n",
       "4                        0  \n",
       "\n",
       "[5 rows x 21 columns]"
      ]
     },
     "execution_count": 34,
     "metadata": {},
     "output_type": "execute_result"
    }
   ],
   "source": [
    "# Create the new column based on the condition\n",
    "dfc['equipped_kitchen_binary'] = dfc['equipped_kitchen'].apply(lambda x: 1 if x == 'equipped' else 0)\n",
    "\n",
    "# Display the updated DataFrame\n",
    "dfc.head()"
   ]
  },
  {
   "cell_type": "markdown",
   "metadata": {},
   "source": [
    "## Exploring relationships"
   ]
  },
  {
   "cell_type": "code",
   "execution_count": null,
   "metadata": {},
   "outputs": [],
   "source": [
    "# Exploring relationships between two numerical variables\n",
    "\n",
    "# x-axis for variable controlled\n",
    "# y-axis for outcome or response\n",
    "\n",
    "sns.scatterplot(x='living_area', y='price', data=dfc)\n",
    "plt.title(\"Living Area vs. Price\")\n",
    "plt.show()"
   ]
  }
 ],
 "metadata": {
  "kernelspec": {
   "display_name": "Python 3",
   "language": "python",
   "name": "python3"
  },
  "language_info": {
   "codemirror_mode": {
    "name": "ipython",
    "version": 3
   },
   "file_extension": ".py",
   "mimetype": "text/x-python",
   "name": "python",
   "nbconvert_exporter": "python",
   "pygments_lexer": "ipython3",
   "version": "3.11.0"
  }
 },
 "nbformat": 4,
 "nbformat_minor": 2
}
