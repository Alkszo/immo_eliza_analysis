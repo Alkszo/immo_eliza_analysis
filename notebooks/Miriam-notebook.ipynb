{
 "cells": [
  {
   "cell_type": "markdown",
   "metadata": {},
   "source": [
    "## Data Inspection"
   ]
  },
  {
   "cell_type": "code",
   "execution_count": null,
   "metadata": {},
   "outputs": [],
   "source": [
    "import pandas as pd\n",
    "import seaborn as sns\n",
    "import matplotlib.pyplot as plt"
   ]
  },
  {
   "cell_type": "code",
   "execution_count": null,
   "metadata": {},
   "outputs": [],
   "source": [
    "# Import dataset\n",
    "df = pd.read_csv(\"../raw_data.csv\")"
   ]
  },
  {
   "cell_type": "code",
   "execution_count": null,
   "metadata": {},
   "outputs": [],
   "source": [
    "# Inspect dataset\n",
    "df.shape"
   ]
  },
  {
   "cell_type": "code",
   "execution_count": null,
   "metadata": {},
   "outputs": [],
   "source": [
    "df.info()"
   ]
  },
  {
   "cell_type": "code",
   "execution_count": null,
   "metadata": {},
   "outputs": [],
   "source": [
    "df.value_counts(\"zip_code\")"
   ]
  },
  {
   "cell_type": "code",
   "execution_count": null,
   "metadata": {},
   "outputs": [],
   "source": [
    "df.value_counts(\"commune\")"
   ]
  },
  {
   "cell_type": "code",
   "execution_count": null,
   "metadata": {},
   "outputs": [],
   "source": [
    "df.value_counts(\"province\")"
   ]
  },
  {
   "cell_type": "code",
   "execution_count": null,
   "metadata": {},
   "outputs": [],
   "source": [
    "df.value_counts(\"garden\")"
   ]
  },
  {
   "cell_type": "code",
   "execution_count": null,
   "metadata": {},
   "outputs": [],
   "source": [
    "df.value_counts(\"bedroom_nr\")"
   ]
  },
  {
   "cell_type": "code",
   "execution_count": null,
   "metadata": {},
   "outputs": [],
   "source": [
    "df.value_counts(\"building_condition\")"
   ]
  },
  {
   "cell_type": "code",
   "execution_count": null,
   "metadata": {},
   "outputs": [],
   "source": [
    "df.value_counts(\"plot_surface\")"
   ]
  },
  {
   "cell_type": "code",
   "execution_count": null,
   "metadata": {},
   "outputs": [],
   "source": [
    "df.describe()"
   ]
  },
  {
   "cell_type": "markdown",
   "metadata": {},
   "source": [
    "## Data Cleaning"
   ]
  },
  {
   "cell_type": "markdown",
   "metadata": {},
   "source": [
    "### Notes on missing values and zero values:\n",
    "\n",
    "**Missing Values:**\n",
    "\n",
    "* \"price\" column: 36 entries missing                **-> Drop (Alek) DONE**\n",
    "* \"building_condition\": 6690 entries missing        **-> Encode as \"Unknown\" -> Alek -> DONE**\n",
    "* \"facade_number\": 9362 entries missing             **-> Use median based on subtype of property! -> Me -> DONE**\n",
    "\n",
    "**Zero Values:**\n",
    "\n",
    "* \"living_area\": 5 entries with 0                   **-> Drop -> Me -> DONE**\n",
    "* \"equipped_kitchen\":                               **-> 0 means no equipped kitchen   -> OK**\n",
    "* \"bedroom_nr\": 890 entries with 0                  **-> Either studio apartments or mixed use buildings etc.  --> OK**\n",
    "* \"garden\": 20949 entries with 0                    **-> apr. 20% of df have a garden -> matches filter result in immoweb** \n",
    "                                                    **-> in our dataset apr. 50%, but we had 60% houses, here 39% houses**\n",
    "* \"plot_surface\": 16290 entries with 0              **-> Definition: based on entry in immoweb -> OK** \n",
    "\n",
    "\n",
    "**Other:**\n",
    "* \"terrace\":                               **>0 means no terrace, and number = surface?  -> OK**\n",
    "* \"garden\":                                **>same as terrace? -> OK**\n",
    "* \"subtype_of_property\"                    **> remove 'unit' -> Celina -> DONE**\n",
    "* \"building_condition\"                     **> Reduce number of categories -> Alek -> DONE**\n",
    "* \"equipped_kitchen\"                       **> reduce number of categories -> Alek -> DONE**"
   ]
  },
  {
   "cell_type": "code",
   "execution_count": null,
   "metadata": {},
   "outputs": [],
   "source": [
    "# See summary of missing values\n",
    "df.isna().sum()"
   ]
  },
  {
   "cell_type": "markdown",
   "metadata": {},
   "source": [
    "### Calculate missing value threshold and drop entries below or equal to"
   ]
  },
  {
   "cell_type": "code",
   "execution_count": null,
   "metadata": {},
   "outputs": [],
   "source": [
    "# Calculate missing value threshold\n",
    "threshold = len(df) * 0.05\n",
    "print(len(df))\n",
    "print(int(threshold))\n",
    "\n",
    "# Use Boolean indexing to filter for columns with missing values <= threshold and > 0\n",
    "cols_to_drop = df.columns[(df.isna().sum() <= threshold) & (df.isna().sum() > 0)]\n",
    "\n",
    "print(cols_to_drop)\n",
    "\n",
    "# To drop missing values\n",
    "df.dropna(subset=cols_to_drop, inplace=True)"
   ]
  },
  {
   "cell_type": "markdown",
   "metadata": {},
   "source": [
    "### Drop zero values in \"living_area\"\n"
   ]
  },
  {
   "cell_type": "code",
   "execution_count": null,
   "metadata": {},
   "outputs": [],
   "source": [
    "# Drop rows where 'living_area' is 0\n",
    "df = df[df[\"living_area\"] != 0]"
   ]
  },
  {
   "cell_type": "markdown",
   "metadata": {},
   "source": [
    "### Handling missing values in \"building_condition\"\n",
    "\n",
    "Options:\n",
    "\n",
    "* Fill with most frequent category (mode) --> No\n",
    "\n",
    "* Fill with a placeholder (e.g. \"Unknown\") --> OK"
   ]
  },
  {
   "cell_type": "markdown",
   "metadata": {},
   "source": [
    "#### Fill zero values in \"building_condition\" with \"Unknown\""
   ]
  },
  {
   "cell_type": "markdown",
   "metadata": {},
   "source": [
    "### Replace missing values in \"facade_number\" with median based on subtype of property"
   ]
  },
  {
   "cell_type": "code",
   "execution_count": null,
   "metadata": {},
   "outputs": [],
   "source": [
    "# Compute median facade number by subtype\n",
    "facade_dict = df.groupby(\"subtype_of_property\")[\"facade_number\"].median().to_dict()\n",
    "\n",
    "# Impute values\n",
    "df[\"facade_number\"] = df[\"facade_number\"].fillna(df[\"subtype_of_property\"].map(facade_dict))"
   ]
  },
  {
   "cell_type": "code",
   "execution_count": null,
   "metadata": {},
   "outputs": [],
   "source": [
    "df.isna().sum()"
   ]
  },
  {
   "cell_type": "markdown",
   "metadata": {},
   "source": [
    "## Check for duplicates"
   ]
  },
  {
   "cell_type": "code",
   "execution_count": null,
   "metadata": {},
   "outputs": [],
   "source": [
    "# Check for duplicates and count them\n",
    "num_duplicates = df.duplicated().sum()\n",
    "num_duplicates"
   ]
  },
  {
   "cell_type": "code",
   "execution_count": null,
   "metadata": {},
   "outputs": [],
   "source": [
    "# Remove duplicate rows and create cleaned df\n",
    "#df_unique = df.drop_duplicates()"
   ]
  },
  {
   "cell_type": "markdown",
   "metadata": {},
   "source": [
    "### Notes on duplicates:\n",
    "\n",
    "* 1284 duplicates found --> while scraping duplicates were eliminated, so the 1284 entries are in fact no duplicates"
   ]
  },
  {
   "cell_type": "markdown",
   "metadata": {},
   "source": [
    "## Check for blank spaces"
   ]
  },
  {
   "cell_type": "code",
   "execution_count": null,
   "metadata": {},
   "outputs": [],
   "source": [
    "# Check for leading/trailing spaces in string columns\n",
    "\n",
    "columns_with_spaces = [col for col in df.columns if df[col].dtype == 'object' and df[col].str.contains(r'^\\s+|\\s+$').any()]\n",
    "columns_with_spaces"
   ]
  },
  {
   "cell_type": "code",
   "execution_count": null,
   "metadata": {},
   "outputs": [],
   "source": [
    "# Check for multiple spaces within a string\n",
    "columns_with_spaces = [col for col in df.columns if df[col].dtype == 'object' and df[col].str.contains(r'  ').any()]\n",
    "columns_with_spaces"
   ]
  },
  {
   "cell_type": "markdown",
   "metadata": {},
   "source": [
    "#### Result: no leading or trailing whitespace and no double whitespace"
   ]
  },
  {
   "cell_type": "markdown",
   "metadata": {},
   "source": [
    "## Data Cleaning: Must-have features\n",
    "\n",
    "* No duplicates            -> OK\n",
    "* No blank spaces          -> OK\n",
    "* No empty values          -> OK\n",
    "* No errors                -> I guess\n",
    "\n",
    "Notes:\n",
    "* Duplicates: In the scraping code the listing id was checked to avoid duplicates; the entries in the df that appear as duplicates are new buildings that appear identical, but are in fact distinct listings"
   ]
  },
  {
   "cell_type": "code",
   "execution_count": 33,
   "metadata": {},
   "outputs": [],
   "source": [
    "# Import cleaned dataset\n",
    "df_cleaned = pd.read_csv(\"../cleaned-data.csv\")"
   ]
  }
 ],
 "metadata": {
  "kernelspec": {
   "display_name": "Python 3",
   "language": "python",
   "name": "python3"
  },
  "language_info": {
   "codemirror_mode": {
    "name": "ipython",
    "version": 3
   },
   "file_extension": ".py",
   "mimetype": "text/x-python",
   "name": "python",
   "nbconvert_exporter": "python",
   "pygments_lexer": "ipython3",
   "version": "3.11.0"
  }
 },
 "nbformat": 4,
 "nbformat_minor": 2
}
