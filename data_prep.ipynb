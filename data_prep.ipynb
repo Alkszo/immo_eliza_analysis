{
 "cells": [
  {
   "cell_type": "code",
   "execution_count": 262,
   "metadata": {},
   "outputs": [],
   "source": [
    "import pandas as pd"
   ]
  },
  {
   "cell_type": "code",
   "execution_count": 263,
   "metadata": {},
   "outputs": [
    {
     "data": {
      "text/html": [
       "<div>\n",
       "<style scoped>\n",
       "    .dataframe tbody tr th:only-of-type {\n",
       "        vertical-align: middle;\n",
       "    }\n",
       "\n",
       "    .dataframe tbody tr th {\n",
       "        vertical-align: top;\n",
       "    }\n",
       "\n",
       "    .dataframe thead th {\n",
       "        text-align: right;\n",
       "    }\n",
       "</style>\n",
       "<table border=\"1\" class=\"dataframe\">\n",
       "  <thead>\n",
       "    <tr style=\"text-align: right;\">\n",
       "      <th></th>\n",
       "      <th>zip_code</th>\n",
       "      <th>commune</th>\n",
       "      <th>province</th>\n",
       "      <th>type_of_property</th>\n",
       "      <th>subtype_of_property</th>\n",
       "      <th>price</th>\n",
       "      <th>building_condition</th>\n",
       "      <th>facade_number</th>\n",
       "      <th>living_area</th>\n",
       "      <th>equipped_kitchen</th>\n",
       "      <th>bedroom_nr</th>\n",
       "      <th>swimming_pool</th>\n",
       "      <th>furnished</th>\n",
       "      <th>open_fire</th>\n",
       "      <th>terrace</th>\n",
       "      <th>garden</th>\n",
       "      <th>plot_surface</th>\n",
       "    </tr>\n",
       "  </thead>\n",
       "  <tbody>\n",
       "    <tr>\n",
       "      <th>0</th>\n",
       "      <td>2600</td>\n",
       "      <td>Berchem</td>\n",
       "      <td>Antwerpen</td>\n",
       "      <td>0</td>\n",
       "      <td>apartment</td>\n",
       "      <td>149000.0</td>\n",
       "      <td>good</td>\n",
       "      <td>NaN</td>\n",
       "      <td>48</td>\n",
       "      <td>installed</td>\n",
       "      <td>1</td>\n",
       "      <td>0</td>\n",
       "      <td>0</td>\n",
       "      <td>0</td>\n",
       "      <td>9</td>\n",
       "      <td>0</td>\n",
       "      <td>0</td>\n",
       "    </tr>\n",
       "    <tr>\n",
       "      <th>1</th>\n",
       "      <td>2100</td>\n",
       "      <td>Deurne</td>\n",
       "      <td>Antwerpen</td>\n",
       "      <td>0</td>\n",
       "      <td>apartment</td>\n",
       "      <td>248000.0</td>\n",
       "      <td>good</td>\n",
       "      <td>NaN</td>\n",
       "      <td>91</td>\n",
       "      <td>installed</td>\n",
       "      <td>3</td>\n",
       "      <td>0</td>\n",
       "      <td>0</td>\n",
       "      <td>0</td>\n",
       "      <td>2</td>\n",
       "      <td>0</td>\n",
       "      <td>0</td>\n",
       "    </tr>\n",
       "    <tr>\n",
       "      <th>2</th>\n",
       "      <td>2660</td>\n",
       "      <td>Hoboken</td>\n",
       "      <td>Antwerpen</td>\n",
       "      <td>0</td>\n",
       "      <td>apartment</td>\n",
       "      <td>229000.0</td>\n",
       "      <td>as new</td>\n",
       "      <td>2.0</td>\n",
       "      <td>100</td>\n",
       "      <td>0</td>\n",
       "      <td>3</td>\n",
       "      <td>0</td>\n",
       "      <td>0</td>\n",
       "      <td>0</td>\n",
       "      <td>26</td>\n",
       "      <td>0</td>\n",
       "      <td>0</td>\n",
       "    </tr>\n",
       "    <tr>\n",
       "      <th>3</th>\n",
       "      <td>1180</td>\n",
       "      <td>Uccle</td>\n",
       "      <td>Bruxelles</td>\n",
       "      <td>0</td>\n",
       "      <td>apartment</td>\n",
       "      <td>470000.0</td>\n",
       "      <td>good</td>\n",
       "      <td>2.0</td>\n",
       "      <td>179</td>\n",
       "      <td>hyper equipped</td>\n",
       "      <td>3</td>\n",
       "      <td>0</td>\n",
       "      <td>0</td>\n",
       "      <td>0</td>\n",
       "      <td>10</td>\n",
       "      <td>0</td>\n",
       "      <td>0</td>\n",
       "    </tr>\n",
       "    <tr>\n",
       "      <th>4</th>\n",
       "      <td>2018</td>\n",
       "      <td>Antwerpen</td>\n",
       "      <td>Antwerpen</td>\n",
       "      <td>0</td>\n",
       "      <td>apartment</td>\n",
       "      <td>480000.0</td>\n",
       "      <td>just renovated</td>\n",
       "      <td>2.0</td>\n",
       "      <td>116</td>\n",
       "      <td>installed</td>\n",
       "      <td>2</td>\n",
       "      <td>0</td>\n",
       "      <td>0</td>\n",
       "      <td>0</td>\n",
       "      <td>7</td>\n",
       "      <td>0</td>\n",
       "      <td>0</td>\n",
       "    </tr>\n",
       "  </tbody>\n",
       "</table>\n",
       "</div>"
      ],
      "text/plain": [
       "   zip_code    commune   province  type_of_property subtype_of_property  \\\n",
       "0      2600    Berchem  Antwerpen                 0           apartment   \n",
       "1      2100     Deurne  Antwerpen                 0           apartment   \n",
       "2      2660    Hoboken  Antwerpen                 0           apartment   \n",
       "3      1180      Uccle  Bruxelles                 0           apartment   \n",
       "4      2018  Antwerpen  Antwerpen                 0           apartment   \n",
       "\n",
       "      price building_condition  facade_number  living_area equipped_kitchen  \\\n",
       "0  149000.0               good            NaN           48        installed   \n",
       "1  248000.0               good            NaN           91        installed   \n",
       "2  229000.0             as new            2.0          100                0   \n",
       "3  470000.0               good            2.0          179   hyper equipped   \n",
       "4  480000.0     just renovated            2.0          116        installed   \n",
       "\n",
       "   bedroom_nr  swimming_pool  furnished  open_fire  terrace  garden  \\\n",
       "0           1              0          0          0        9       0   \n",
       "1           3              0          0          0        2       0   \n",
       "2           3              0          0          0       26       0   \n",
       "3           3              0          0          0       10       0   \n",
       "4           2              0          0          0        7       0   \n",
       "\n",
       "   plot_surface  \n",
       "0             0  \n",
       "1             0  \n",
       "2             0  \n",
       "3             0  \n",
       "4             0  "
      ]
     },
     "execution_count": 263,
     "metadata": {},
     "output_type": "execute_result"
    }
   ],
   "source": [
    "# loading raw data to df\n",
    "df = pd.read_csv('raw_data.csv')\n",
    "df.head()"
   ]
  },
  {
   "cell_type": "code",
   "execution_count": 264,
   "metadata": {},
   "outputs": [
    {
     "name": "stdout",
     "output_type": "stream",
     "text": [
      "<class 'pandas.core.frame.DataFrame'>\n",
      "RangeIndex: 26147 entries, 0 to 26146\n",
      "Data columns (total 17 columns):\n",
      " #   Column               Non-Null Count  Dtype  \n",
      "---  ------               --------------  -----  \n",
      " 0   zip_code             26147 non-null  int64  \n",
      " 1   commune              26147 non-null  object \n",
      " 2   province             26147 non-null  object \n",
      " 3   type_of_property     26147 non-null  int64  \n",
      " 4   subtype_of_property  26147 non-null  object \n",
      " 5   price                26111 non-null  float64\n",
      " 6   building_condition   19457 non-null  object \n",
      " 7   facade_number        16785 non-null  float64\n",
      " 8   living_area          26147 non-null  int64  \n",
      " 9   equipped_kitchen     26147 non-null  object \n",
      " 10  bedroom_nr           26147 non-null  int64  \n",
      " 11  swimming_pool        26147 non-null  int64  \n",
      " 12  furnished            26147 non-null  int64  \n",
      " 13  open_fire            26147 non-null  int64  \n",
      " 14  terrace              26147 non-null  int64  \n",
      " 15  garden               26147 non-null  int64  \n",
      " 16  plot_surface         26147 non-null  int64  \n",
      "dtypes: float64(2), int64(10), object(5)\n",
      "memory usage: 3.4+ MB\n"
     ]
    }
   ],
   "source": [
    "df.info()"
   ]
  },
  {
   "cell_type": "code",
   "execution_count": 265,
   "metadata": {},
   "outputs": [
    {
     "data": {
      "text/plain": [
       "1284"
      ]
     },
     "execution_count": 265,
     "metadata": {},
     "output_type": "execute_result"
    }
   ],
   "source": [
    "# Checking for duplicates\n",
    "duplicates = df.duplicated()\n",
    "df[duplicates].shape[0]\n",
    "\n",
    "# There are 1284 duplicates:"
   ]
  },
  {
   "cell_type": "code",
   "execution_count": 266,
   "metadata": {},
   "outputs": [
    {
     "data": {
      "text/plain": [
       "24863"
      ]
     },
     "execution_count": 266,
     "metadata": {},
     "output_type": "execute_result"
    }
   ],
   "source": [
    "#Remove duplicates\n",
    "df.drop_duplicates(keep='last', inplace=True) # keep='first (instance) is the default, inplace is to make the change in the same df\n",
    "df.shape[0]"
   ]
  },
  {
   "cell_type": "code",
   "execution_count": 267,
   "metadata": {},
   "outputs": [
    {
     "name": "stdout",
     "output_type": "stream",
     "text": [
      "Duplicates: 0\n"
     ]
    }
   ],
   "source": [
    "# Checking that duplicates were indeed removed:\n",
    "duplicates = df.duplicated(keep='last')\n",
    "print('Duplicates: ' + str(df[duplicates].shape[0]))"
   ]
  },
  {
   "cell_type": "code",
   "execution_count": 268,
   "metadata": {},
   "outputs": [],
   "source": [
    "# Remove values with missing price\n",
    "df.dropna(subset=['price'], inplace=True)"
   ]
  },
  {
   "cell_type": "code",
   "execution_count": 269,
   "metadata": {},
   "outputs": [
    {
     "data": {
      "text/plain": [
       "0                  good\n",
       "1                  good\n",
       "2                as new\n",
       "3                  good\n",
       "4        just renovated\n",
       "              ...      \n",
       "26142           unknown\n",
       "26143           unknown\n",
       "26144           unknown\n",
       "26145              good\n",
       "26146              good\n",
       "Name: building_condition, Length: 24830, dtype: object"
      ]
     },
     "execution_count": 269,
     "metadata": {},
     "output_type": "execute_result"
    }
   ],
   "source": [
    "# Assign 'unknown' to NaNs in building_condition:\n",
    "df['building_condition'].fillna('unknown')"
   ]
  },
  {
   "cell_type": "code",
   "execution_count": 270,
   "metadata": {},
   "outputs": [
    {
     "name": "stdout",
     "output_type": "stream",
     "text": [
      "36\n"
     ]
    },
    {
     "data": {
      "text/plain": [
       "subtype_of_property\n",
       "house                      6210\n",
       "apartment                  6188\n",
       "apartment unit             5683\n",
       "house unit                 1625\n",
       "villa                       837\n",
       "duplex                      424\n",
       "ground floor                387\n",
       "penthouse                   378\n",
       "mixed use building          353\n",
       "ground floor unit           348\n",
       "apartment block             320\n",
       "flat studio                 306\n",
       "penthouse unit              292\n",
       "flat studio unit            239\n",
       "exceptional property        159\n",
       "mansion                     148\n",
       "duplex unit                 142\n",
       "service flat                 95\n",
       "town house                   95\n",
       "country cottage              92\n",
       "bungalow                     91\n",
       "loft                         74\n",
       "service flat unit            54\n",
       "triplex                      49\n",
       "kot unit                     49\n",
       "kot                          44\n",
       "farmhouse                    38\n",
       "loft unit                    37\n",
       "villa unit                   32\n",
       "chalet                       12\n",
       "manor house                  11\n",
       "castle                        9\n",
       "town house unit               3\n",
       "triplex unit                  2\n",
       "other property                2\n",
       "mixed use building unit       2\n",
       "Name: count, dtype: int64"
      ]
     },
     "execution_count": 270,
     "metadata": {},
     "output_type": "execute_result"
    }
   ],
   "source": [
    "print(len(df['subtype_of_property'].value_counts()))\n",
    "df['subtype_of_property'].value_counts()"
   ]
  },
  {
   "cell_type": "code",
   "execution_count": 271,
   "metadata": {},
   "outputs": [],
   "source": [
    "# Create function to remove 'unit' form sub type of property, so 'apartment' and 'apartment unit' become one category and so on\n",
    "def remove_unit(subtype_of_property):\n",
    "    if 'unit' in subtype_of_property:\n",
    "        subtype_of_property = subtype_of_property.replace(' unit', '')\n",
    "    return subtype_of_property"
   ]
  },
  {
   "cell_type": "code",
   "execution_count": 272,
   "metadata": {},
   "outputs": [],
   "source": [
    "# Apply the function to the sub type col:\n",
    "df['subtype_of_property'] = df['subtype_of_property'].apply(remove_unit)"
   ]
  },
  {
   "cell_type": "code",
   "execution_count": 273,
   "metadata": {},
   "outputs": [
    {
     "name": "stdout",
     "output_type": "stream",
     "text": [
      "23\n"
     ]
    },
    {
     "data": {
      "text/plain": [
       "subtype_of_property\n",
       "apartment               11871\n",
       "house                    7835\n",
       "villa                     869\n",
       "ground floor              735\n",
       "penthouse                 670\n",
       "duplex                    566\n",
       "flat studio               545\n",
       "mixed use building        355\n",
       "apartment block           320\n",
       "exceptional property      159\n",
       "service flat              149\n",
       "mansion                   148\n",
       "loft                      111\n",
       "town house                 98\n",
       "kot                        93\n",
       "country cottage            92\n",
       "bungalow                   91\n",
       "triplex                    51\n",
       "farmhouse                  38\n",
       "chalet                     12\n",
       "manor house                11\n",
       "castle                      9\n",
       "other property              2\n",
       "Name: count, dtype: int64"
      ]
     },
     "execution_count": 273,
     "metadata": {},
     "output_type": "execute_result"
    }
   ],
   "source": [
    "# check result\n",
    "print(len(df['subtype_of_property'].value_counts()))\n",
    "df['subtype_of_property'].value_counts()"
   ]
  },
  {
   "cell_type": "code",
   "execution_count": 274,
   "metadata": {},
   "outputs": [
    {
     "name": "stdout",
     "output_type": "stream",
     "text": [
      "Current number of observations: 24830\n",
      "New number of observations: 24828\n"
     ]
    }
   ],
   "source": [
    "# remove the two rows of 'other property'\n",
    "# Initial number of rows\n",
    "print(f'Current number of observations: ' + str(df.shape[0]))\n",
    "\n",
    "# create condition based on which we will remove the rows:\n",
    "other_properties = df['subtype_of_property'] == 'other property'\n",
    "# other_properties # returns a series of booleans for the above condition \n",
    "\n",
    "df[other_properties] # returns the rows that meet the other_properties condition\n",
    "revised_df = df[~other_properties] # returns the rows that do NOT meet the other_properties condition \n",
    "\n",
    "print('New number of observations: ' + str(revised_df.shape[0]))"
   ]
  },
  {
   "cell_type": "code",
   "execution_count": 275,
   "metadata": {},
   "outputs": [
    {
     "data": {
      "text/plain": [
       "equipped_kitchen\n",
       "0                     8770\n",
       "installed             7397\n",
       "hyper equipped        5473\n",
       "semi equipped         1899\n",
       "not installed          822\n",
       "usa hyper equipped     273\n",
       "usa installed          165\n",
       "usa semi equipped       19\n",
       "usa uninstalled         10\n",
       "Name: count, dtype: int64"
      ]
     },
     "execution_count": 275,
     "metadata": {},
     "output_type": "execute_result"
    }
   ],
   "source": [
    "# The sub type of properties is now good to go.\n",
    "# However, 'equipped_kitchen' still needs to be changed to a numerical value: No : 0, Yes : 1\n",
    "revised_df['equipped_kitchen'].value_counts()"
   ]
  },
  {
   "cell_type": "code",
   "execution_count": 276,
   "metadata": {},
   "outputs": [],
   "source": [
    "# create function to make the change:\n",
    "def correct_kitchen_value(equipped_kitchen):\n",
    "    if equipped_kitchen in (0, 'not installed', 'usa uninstalled'):\n",
    "        equipped_kitchen = 0\n",
    "    elif equipped_kitchen in ('semi equipped','usa semi equipped'):\n",
    "        equipped_kitchen = 1\n",
    "    else:\n",
    "        equipped_kitchen = 2\n",
    "    return equipped_kitchen\n"
   ]
  },
  {
   "cell_type": "code",
   "execution_count": 277,
   "metadata": {},
   "outputs": [],
   "source": [
    "# apply the function to the df col\n",
    "df['equipped_kitchen'] = df['equipped_kitchen'].apply(correct_kitchen_value)"
   ]
  },
  {
   "cell_type": "code",
   "execution_count": 278,
   "metadata": {},
   "outputs": [
    {
     "data": {
      "text/plain": [
       "equipped_kitchen\n",
       "2    22080\n",
       "1     1918\n",
       "0      832\n",
       "Name: count, dtype: int64"
      ]
     },
     "execution_count": 278,
     "metadata": {},
     "output_type": "execute_result"
    }
   ],
   "source": [
    "# check that it is fixed\n",
    "df['equipped_kitchen'].value_counts()"
   ]
  },
  {
   "cell_type": "code",
   "execution_count": null,
   "metadata": {},
   "outputs": [
    {
     "data": {
      "text/plain": [
       "subtype_of_property\n",
       "apartment               2.0\n",
       "apartment block         2.0\n",
       "bungalow                4.0\n",
       "castle                  4.0\n",
       "chalet                  4.0\n",
       "country cottage         4.0\n",
       "duplex                  2.0\n",
       "exceptional property    4.0\n",
       "farmhouse               4.0\n",
       "flat studio             2.0\n",
       "ground floor            2.0\n",
       "house                   3.0\n",
       "kot                     2.0\n",
       "loft                    2.0\n",
       "manor house             4.0\n",
       "mansion                 2.0\n",
       "mixed use building      2.0\n",
       "other property          4.0\n",
       "penthouse               2.0\n",
       "service flat            2.0\n",
       "town house              2.0\n",
       "triplex                 2.0\n",
       "villa                   4.0\n",
       "Name: facade_number, dtype: float64"
      ]
     },
     "execution_count": 279,
     "metadata": {},
     "output_type": "execute_result"
    }
   ],
   "source": [
    "# Fix NaN under facades by assigning the median value per property sub type\n",
    "# Find facades per property type:\n",
    "median_facade_per_p_type = df.groupby(by='subtype_of_property')['facade_number'].median()\n",
    "median_facade_per_p_type\n"
   ]
  },
  {
   "cell_type": "code",
   "execution_count": null,
   "metadata": {},
   "outputs": [],
   "source": [
    "# Assign the median number of facades of each property sub type to the NaN of its group:\n",
    "df['facade_number'] = df['facade_number'].fillna(df.groupby('subtype_of_property')['facade_number'].transform('median'))"
   ]
  },
  {
   "cell_type": "code",
   "execution_count": 299,
   "metadata": {},
   "outputs": [
    {
     "name": "stdout",
     "output_type": "stream",
     "text": [
      "24830\n",
      "<class 'pandas.core.series.Series'>\n",
      "Index: 24830 entries, 0 to 26146\n",
      "Series name: facade_number\n",
      "Non-Null Count  Dtype  \n",
      "--------------  -----  \n",
      "24830 non-null  float64\n",
      "dtypes: float64(1)\n",
      "memory usage: 904.0 KB\n"
     ]
    }
   ],
   "source": [
    "# Check there are no NaN under fa\n",
    "print(df.shape[0])\n",
    "df['facade_number'].info()"
   ]
  },
  {
   "cell_type": "code",
   "execution_count": 302,
   "metadata": {},
   "outputs": [
    {
     "data": {
      "text/html": [
       "<div>\n",
       "<style scoped>\n",
       "    .dataframe tbody tr th:only-of-type {\n",
       "        vertical-align: middle;\n",
       "    }\n",
       "\n",
       "    .dataframe tbody tr th {\n",
       "        vertical-align: top;\n",
       "    }\n",
       "\n",
       "    .dataframe thead th {\n",
       "        text-align: right;\n",
       "    }\n",
       "</style>\n",
       "<table border=\"1\" class=\"dataframe\">\n",
       "  <thead>\n",
       "    <tr style=\"text-align: right;\">\n",
       "      <th></th>\n",
       "      <th>zip_code</th>\n",
       "      <th>commune</th>\n",
       "      <th>province</th>\n",
       "      <th>type_of_property</th>\n",
       "      <th>subtype_of_property</th>\n",
       "      <th>price</th>\n",
       "      <th>building_condition</th>\n",
       "      <th>facade_number</th>\n",
       "      <th>living_area</th>\n",
       "      <th>equipped_kitchen</th>\n",
       "      <th>bedroom_nr</th>\n",
       "      <th>swimming_pool</th>\n",
       "      <th>furnished</th>\n",
       "      <th>open_fire</th>\n",
       "      <th>terrace</th>\n",
       "      <th>garden</th>\n",
       "      <th>plot_surface</th>\n",
       "    </tr>\n",
       "  </thead>\n",
       "  <tbody>\n",
       "    <tr>\n",
       "      <th>15863</th>\n",
       "      <td>1300</td>\n",
       "      <td>Wavre</td>\n",
       "      <td>Brabant Wallon</td>\n",
       "      <td>1</td>\n",
       "      <td>apartment block</td>\n",
       "      <td>180000.0</td>\n",
       "      <td>just renovated</td>\n",
       "      <td>2.0</td>\n",
       "      <td>78</td>\n",
       "      <td>1</td>\n",
       "      <td>0</td>\n",
       "      <td>0</td>\n",
       "      <td>1</td>\n",
       "      <td>0</td>\n",
       "      <td>6</td>\n",
       "      <td>6</td>\n",
       "      <td>100</td>\n",
       "    </tr>\n",
       "    <tr>\n",
       "      <th>16079</th>\n",
       "      <td>2140</td>\n",
       "      <td>Borgerhout</td>\n",
       "      <td>Antwerpen</td>\n",
       "      <td>1</td>\n",
       "      <td>apartment block</td>\n",
       "      <td>449900.0</td>\n",
       "      <td>good</td>\n",
       "      <td>2.0</td>\n",
       "      <td>237</td>\n",
       "      <td>2</td>\n",
       "      <td>0</td>\n",
       "      <td>0</td>\n",
       "      <td>0</td>\n",
       "      <td>0</td>\n",
       "      <td>0</td>\n",
       "      <td>0</td>\n",
       "      <td>75</td>\n",
       "    </tr>\n",
       "    <tr>\n",
       "      <th>16265</th>\n",
       "      <td>9040</td>\n",
       "      <td>Sint-Amandsberg</td>\n",
       "      <td>Oost-Vlaanderen</td>\n",
       "      <td>1</td>\n",
       "      <td>house</td>\n",
       "      <td>420000.0</td>\n",
       "      <td>good</td>\n",
       "      <td>3.0</td>\n",
       "      <td>234</td>\n",
       "      <td>2</td>\n",
       "      <td>0</td>\n",
       "      <td>0</td>\n",
       "      <td>0</td>\n",
       "      <td>0</td>\n",
       "      <td>8</td>\n",
       "      <td>130</td>\n",
       "      <td>130</td>\n",
       "    </tr>\n",
       "    <tr>\n",
       "      <th>16923</th>\n",
       "      <td>9000</td>\n",
       "      <td>Gent</td>\n",
       "      <td>Oost-Vlaanderen</td>\n",
       "      <td>1</td>\n",
       "      <td>mansion</td>\n",
       "      <td>1985000.0</td>\n",
       "      <td>good</td>\n",
       "      <td>2.0</td>\n",
       "      <td>350</td>\n",
       "      <td>2</td>\n",
       "      <td>0</td>\n",
       "      <td>0</td>\n",
       "      <td>0</td>\n",
       "      <td>0</td>\n",
       "      <td>0</td>\n",
       "      <td>0</td>\n",
       "      <td>350</td>\n",
       "    </tr>\n",
       "    <tr>\n",
       "      <th>17042</th>\n",
       "      <td>1080</td>\n",
       "      <td>Molenbeek-Saint-Jean</td>\n",
       "      <td>Bruxelles</td>\n",
       "      <td>1</td>\n",
       "      <td>apartment block</td>\n",
       "      <td>599000.0</td>\n",
       "      <td>good</td>\n",
       "      <td>2.0</td>\n",
       "      <td>350</td>\n",
       "      <td>2</td>\n",
       "      <td>0</td>\n",
       "      <td>0</td>\n",
       "      <td>0</td>\n",
       "      <td>0</td>\n",
       "      <td>0</td>\n",
       "      <td>0</td>\n",
       "      <td>0</td>\n",
       "    </tr>\n",
       "  </tbody>\n",
       "</table>\n",
       "</div>"
      ],
      "text/plain": [
       "       zip_code               commune         province  type_of_property  \\\n",
       "15863      1300                 Wavre   Brabant Wallon                 1   \n",
       "16079      2140            Borgerhout        Antwerpen                 1   \n",
       "16265      9040       Sint-Amandsberg  Oost-Vlaanderen                 1   \n",
       "16923      9000                  Gent  Oost-Vlaanderen                 1   \n",
       "17042      1080  Molenbeek-Saint-Jean        Bruxelles                 1   \n",
       "\n",
       "      subtype_of_property      price building_condition  facade_number  \\\n",
       "15863     apartment block   180000.0     just renovated            2.0   \n",
       "16079     apartment block   449900.0               good            2.0   \n",
       "16265               house   420000.0               good            3.0   \n",
       "16923             mansion  1985000.0               good            2.0   \n",
       "17042     apartment block   599000.0               good            2.0   \n",
       "\n",
       "       living_area  equipped_kitchen  bedroom_nr  swimming_pool  furnished  \\\n",
       "15863           78                 1           0              0          1   \n",
       "16079          237                 2           0              0          0   \n",
       "16265          234                 2           0              0          0   \n",
       "16923          350                 2           0              0          0   \n",
       "17042          350                 2           0              0          0   \n",
       "\n",
       "       open_fire  terrace  garden  plot_surface  \n",
       "15863          0        6       6           100  \n",
       "16079          0        0       0            75  \n",
       "16265          0        8     130           130  \n",
       "16923          0        0       0           350  \n",
       "17042          0        0       0             0  "
      ]
     },
     "execution_count": 302,
     "metadata": {},
     "output_type": "execute_result"
    }
   ],
   "source": [
    "# Check houses with 0 bedrooms to find possible causes\n",
    "df.loc[(df['type_of_property'] == 1) & (df['bedroom_nr'] == 0)].head()\n",
    "# After some searching, it seems they are mixed-used businesses, projects and even warehouses"
   ]
  },
  {
   "cell_type": "code",
   "execution_count": null,
   "metadata": {},
   "outputs": [],
   "source": [
    "# drop rows where living_area is 0"
   ]
  }
 ],
 "metadata": {
  "kernelspec": {
   "display_name": "env1",
   "language": "python",
   "name": "python3"
  },
  "language_info": {
   "codemirror_mode": {
    "name": "ipython",
    "version": 3
   },
   "file_extension": ".py",
   "mimetype": "text/x-python",
   "name": "python",
   "nbconvert_exporter": "python",
   "pygments_lexer": "ipython3",
   "version": "3.13.0"
  }
 },
 "nbformat": 4,
 "nbformat_minor": 2
}
